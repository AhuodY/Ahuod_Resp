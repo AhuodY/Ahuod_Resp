{
  "nbformat": 4,
  "nbformat_minor": 0,
  "metadata": {
    "colab": {
      "provenance": []
    },
    "kernelspec": {
      "name": "python3",
      "display_name": "Python 3"
    },
    "language_info": {
      "name": "python"
    }
  },
  "cells": [
    {
      "cell_type": "markdown",
      "source": [
        "# Activity #2 (5 marks)"
      ],
      "metadata": {
        "id": "9Hr2lLFuZjja"
      }
    },
    {
      "cell_type": "markdown",
      "source": [
        "\n",
        "Class Activity: Analyzing NYC Hyperlocal Air Quality Data with Spatial Join"
      ],
      "metadata": {
        "id": "bEtXiTwI-yIv"
      }
    },
    {
      "cell_type": "markdown",
      "source": [
        "# Objective:\n",
        "- This activity reinforces concepts from Chapters 6 (Tables), 7 (Visualization), 8 (Functions and Tables), and 9 (Randomness). Students will analyze NYC hyperlocal air quality data using Python in a Jupyter Notebook (Google Colab). The focus will be on leveraging the Table abstraction wherever possible. Additionally, students will use spatial join techniques to combine air quality sensor readings with geographic data."
      ],
      "metadata": {
        "id": "6i3-zemYyZAu"
      }
    },
    {
      "cell_type": "markdown",
      "source": [
        "given a csv file containing longitude, latitude , and pm10  columns [Air Quality data](https://raw.githubusercontent.com/IsamAljawarneh/datasets/master/data/NYC_PM.csv) representing readings of low cost air quality sensor mounted on moving vehicles, in addition to a geojson file containing polygons representing administrative divisions of NYC city known as neighbourhoods [nyc_polygon.geojson](https://raw.githubusercontent.com/IsamAljawarneh/datasets/master/data/nyc_polygon.geojson).\n",
        "# Dataset Description\n",
        "- Air Quality Sensor Readings (NYC_PM.csv) :\n",
        "Attributes: SensorID, time, temperature, humidity, pm25,\n",
        "Focus attributes: temperature, humidity, pm1,pm25,pm10,\n",
        "- City Polygons (nyc_polygon.geojson) :\n",
        "Contains polygons representing neighborhoods or boroughs in NYC.\n",
        "Used for spatially joining geographic information with air quality data."
      ],
      "metadata": {
        "id": "MnPCkUN9-lzy"
      }
    },
    {
      "cell_type": "markdown",
      "source": [
        "## **part - A** preprocessing [0 marks]\n",
        "\n",
        "do all tasks and the subtasks!"
      ],
      "metadata": {
        "id": "_kuVRsJkAh9n"
      }
    },
    {
      "cell_type": "markdown",
      "source": [
        "# Onboarding Code Provided\n",
        "- The following code will be provided in an onboarding Jupyter Notebook to help students get started:\n",
        "\n"
      ],
      "metadata": {
        "id": "cXRH1R-SzPAs"
      }
    },
    {
      "cell_type": "code",
      "source": [
        "'''from google.colab import drive\n",
        "drive.mount('/content/drive')'''"
      ],
      "metadata": {
        "colab": {
          "base_uri": "https://localhost:8080/",
          "height": 35
        },
        "id": "R4ArO-FctZIu",
        "outputId": "56bcfb03-7174-4b9c-f0cc-897cb96adecf"
      },
      "execution_count": 1,
      "outputs": [
        {
          "output_type": "execute_result",
          "data": {
            "text/plain": [
              "\"from google.colab import drive\\ndrive.mount('/content/drive')\""
            ],
            "application/vnd.google.colaboratory.intrinsic+json": {
              "type": "string"
            }
          },
          "metadata": {},
          "execution_count": 1
        }
      ]
    },
    {
      "cell_type": "markdown",
      "source": [
        "import necessary libraries"
      ],
      "metadata": {
        "id": "9o9eM8IICM-1"
      }
    },
    {
      "cell_type": "code",
      "source": [
        "import pandas as pd\n",
        "import geopandas as gpd\n",
        "import numpy as np\n",
        "import matplotlib.pyplot as plt"
      ],
      "metadata": {
        "id": "DIyY1q36ta3G"
      },
      "execution_count": 2,
      "outputs": []
    },
    {
      "cell_type": "code",
      "source": [
        "from datascience import *\n",
        "%matplotlib inline\n",
        "#path_data = '../../../assets/data/'\n",
        "import matplotlib.pyplot as plt\n",
        "plt.style.use('fivethirtyeight')\n",
        "import numpy as np"
      ],
      "metadata": {
        "id": "8ipkPRynmWGz"
      },
      "execution_count": 3,
      "outputs": []
    },
    {
      "cell_type": "markdown",
      "source": [
        "###1. Read the CSV file containing PM sensor readings\n",
        " & Read the GeoJSON file containing neighborhood boundaries into a GeoDataFrame"
      ],
      "metadata": {
        "id": "11VvbD-a6ur8"
      }
    },
    {
      "cell_type": "code",
      "source": [
        "\n",
        "# Step 1: Read the CSV file containing PM10 sensor readings\n",
        "pm10_data = pd.read_csv('https://raw.githubusercontent.com/IsamAljawarneh/datasets/master/data/NYC_PM.csv',index_col=False)\n",
        "\n",
        "# Step 2: Read the GeoJSON file containing neighborhood boundaries into a GeoDataFrame\n",
        "nyc_neighborhoods = gpd.read_file('https://raw.githubusercontent.com/IsamAljawarneh/datasets/master/data/nyc_polygon.geojson')\n"
      ],
      "metadata": {
        "id": "CYk7KfJqueQW"
      },
      "execution_count": 61,
      "outputs": []
    },
    {
      "cell_type": "code",
      "source": [
        "#pm10_data.dtypes"
      ],
      "metadata": {
        "id": "VAMLIDAKu289"
      },
      "execution_count": 62,
      "outputs": []
    },
    {
      "cell_type": "markdown",
      "source": [
        "### 2. convert the csv into a geodataframe and join it (sjoin) with the geojson, assign a coordinate reference system (CRS) the csv geodataframe which is identical to that of the geojson file, then perform the join, the result is a geodataframe, convert it to dataframe, and select pm10, neighborhood columns in a new dataframe"
      ],
      "metadata": {
        "id": "tKKuGLIl682s"
      }
    },
    {
      "cell_type": "code",
      "source": [
        "pm10_gdf = gpd.GeoDataFrame(pm10_data, geometry=gpd.points_from_xy(pm10_data.longitude, pm10_data.latitude))\n",
        "merged_data = gpd.sjoin(pm10_gdf, nyc_neighborhoods, how='inner', predicate='within')"
      ],
      "metadata": {
        "id": "LDdZ3JM9vABk",
        "colab": {
          "base_uri": "https://localhost:8080/"
        },
        "outputId": "1d77d19a-5b10-431d-e08d-f5ca3c01129c"
      },
      "execution_count": 63,
      "outputs": [
        {
          "output_type": "stream",
          "name": "stderr",
          "text": [
            "<ipython-input-63-d43866676e2a>:2: UserWarning: CRS mismatch between the CRS of left geometries and the CRS of right geometries.\n",
            "Use `to_crs()` to reproject one of the input geometries to match the CRS of the other.\n",
            "\n",
            "Left CRS: None\n",
            "Right CRS: EPSG:4326\n",
            "\n",
            "  merged_data = gpd.sjoin(pm10_gdf, nyc_neighborhoods, how='inner', predicate='within')\n"
          ]
        }
      ]
    },
    {
      "cell_type": "code",
      "source": [
        "#merged_data.dtypes"
      ],
      "metadata": {
        "id": "4YTL56jpvPDW"
      },
      "execution_count": 64,
      "outputs": []
    },
    {
      "cell_type": "code",
      "source": [
        "pollution_data = merged_data[['pm10','neighborhood']]"
      ],
      "metadata": {
        "id": "1XPU0kp4hwnf"
      },
      "execution_count": 65,
      "outputs": []
    },
    {
      "cell_type": "code",
      "source": [
        "pollution_data.shape[0]"
      ],
      "metadata": {
        "colab": {
          "base_uri": "https://localhost:8080/"
        },
        "id": "T3gx_my1iAoi",
        "outputId": "43490854-535a-4501-b09f-05ea19a5674d"
      },
      "execution_count": 66,
      "outputs": [
        {
          "output_type": "execute_result",
          "data": {
            "text/plain": [
              "118495"
            ]
          },
          "metadata": {},
          "execution_count": 66
        }
      ]
    },
    {
      "cell_type": "code",
      "source": [
        "#merged_data.rename(columns={'neighborhood': 'neighborhood1'}, inplace=True)"
      ],
      "metadata": {
        "id": "P4M9bOYqy09e"
      },
      "execution_count": 67,
      "outputs": []
    },
    {
      "cell_type": "code",
      "source": [
        "type(pollution_data)"
      ],
      "metadata": {
        "colab": {
          "base_uri": "https://localhost:8080/",
          "height": 203
        },
        "id": "a8C-waCXk8JE",
        "outputId": "fe6a8b8e-7edb-4d96-f541-79d1740a4d6d"
      },
      "execution_count": 68,
      "outputs": [
        {
          "output_type": "execute_result",
          "data": {
            "text/plain": [
              "pandas.core.frame.DataFrame"
            ],
            "text/html": [
              "<div style=\"max-width:800px; border: 1px solid var(--colab-border-color);\"><style>\n",
              "      pre.function-repr-contents {\n",
              "        overflow-x: auto;\n",
              "        padding: 8px 12px;\n",
              "        max-height: 500px;\n",
              "      }\n",
              "\n",
              "      pre.function-repr-contents.function-repr-contents-collapsed {\n",
              "        cursor: pointer;\n",
              "        max-height: 100px;\n",
              "      }\n",
              "    </style>\n",
              "    <pre style=\"white-space: initial; background:\n",
              "         var(--colab-secondary-surface-color); padding: 8px 12px;\n",
              "         border-bottom: 1px solid var(--colab-border-color);\"><b>pandas.core.frame.DataFrame</b><br/>def __init__(data=None, index: Axes | None=None, columns: Axes | None=None, dtype: Dtype | None=None, copy: bool | None=None) -&gt; None</pre><pre class=\"function-repr-contents function-repr-contents-collapsed\" style=\"\"><a class=\"filepath\" style=\"display:none\" href=\"#\">/usr/local/lib/python3.11/dist-packages/pandas/core/frame.py</a>Two-dimensional, size-mutable, potentially heterogeneous tabular data.\n",
              "\n",
              "Data structure also contains labeled axes (rows and columns).\n",
              "Arithmetic operations align on both row and column labels. Can be\n",
              "thought of as a dict-like container for Series objects. The primary\n",
              "pandas data structure.\n",
              "\n",
              "Parameters\n",
              "----------\n",
              "data : ndarray (structured or homogeneous), Iterable, dict, or DataFrame\n",
              "    Dict can contain Series, arrays, constants, dataclass or list-like objects. If\n",
              "    data is a dict, column order follows insertion-order. If a dict contains Series\n",
              "    which have an index defined, it is aligned by its index. This alignment also\n",
              "    occurs if data is a Series or a DataFrame itself. Alignment is done on\n",
              "    Series/DataFrame inputs.\n",
              "\n",
              "    If data is a list of dicts, column order follows insertion-order.\n",
              "\n",
              "index : Index or array-like\n",
              "    Index to use for resulting frame. Will default to RangeIndex if\n",
              "    no indexing information part of input data and no index provided.\n",
              "columns : Index or array-like\n",
              "    Column labels to use for resulting frame when data does not have them,\n",
              "    defaulting to RangeIndex(0, 1, 2, ..., n). If data contains column labels,\n",
              "    will perform column selection instead.\n",
              "dtype : dtype, default None\n",
              "    Data type to force. Only a single dtype is allowed. If None, infer.\n",
              "copy : bool or None, default None\n",
              "    Copy data from inputs.\n",
              "    For dict data, the default of None behaves like ``copy=True``.  For DataFrame\n",
              "    or 2d ndarray input, the default of None behaves like ``copy=False``.\n",
              "    If data is a dict containing one or more Series (possibly of different dtypes),\n",
              "    ``copy=False`` will ensure that these inputs are not copied.\n",
              "\n",
              "    .. versionchanged:: 1.3.0\n",
              "\n",
              "See Also\n",
              "--------\n",
              "DataFrame.from_records : Constructor from tuples, also record arrays.\n",
              "DataFrame.from_dict : From dicts of Series, arrays, or dicts.\n",
              "read_csv : Read a comma-separated values (csv) file into DataFrame.\n",
              "read_table : Read general delimited file into DataFrame.\n",
              "read_clipboard : Read text from clipboard into DataFrame.\n",
              "\n",
              "Notes\n",
              "-----\n",
              "Please reference the :ref:`User Guide &lt;basics.dataframe&gt;` for more information.\n",
              "\n",
              "Examples\n",
              "--------\n",
              "Constructing DataFrame from a dictionary.\n",
              "\n",
              "&gt;&gt;&gt; d = {&#x27;col1&#x27;: [1, 2], &#x27;col2&#x27;: [3, 4]}\n",
              "&gt;&gt;&gt; df = pd.DataFrame(data=d)\n",
              "&gt;&gt;&gt; df\n",
              "   col1  col2\n",
              "0     1     3\n",
              "1     2     4\n",
              "\n",
              "Notice that the inferred dtype is int64.\n",
              "\n",
              "&gt;&gt;&gt; df.dtypes\n",
              "col1    int64\n",
              "col2    int64\n",
              "dtype: object\n",
              "\n",
              "To enforce a single dtype:\n",
              "\n",
              "&gt;&gt;&gt; df = pd.DataFrame(data=d, dtype=np.int8)\n",
              "&gt;&gt;&gt; df.dtypes\n",
              "col1    int8\n",
              "col2    int8\n",
              "dtype: object\n",
              "\n",
              "Constructing DataFrame from a dictionary including Series:\n",
              "\n",
              "&gt;&gt;&gt; d = {&#x27;col1&#x27;: [0, 1, 2, 3], &#x27;col2&#x27;: pd.Series([2, 3], index=[2, 3])}\n",
              "&gt;&gt;&gt; pd.DataFrame(data=d, index=[0, 1, 2, 3])\n",
              "   col1  col2\n",
              "0     0   NaN\n",
              "1     1   NaN\n",
              "2     2   2.0\n",
              "3     3   3.0\n",
              "\n",
              "Constructing DataFrame from numpy ndarray:\n",
              "\n",
              "&gt;&gt;&gt; df2 = pd.DataFrame(np.array([[1, 2, 3], [4, 5, 6], [7, 8, 9]]),\n",
              "...                    columns=[&#x27;a&#x27;, &#x27;b&#x27;, &#x27;c&#x27;])\n",
              "&gt;&gt;&gt; df2\n",
              "   a  b  c\n",
              "0  1  2  3\n",
              "1  4  5  6\n",
              "2  7  8  9\n",
              "\n",
              "Constructing DataFrame from a numpy ndarray that has labeled columns:\n",
              "\n",
              "&gt;&gt;&gt; data = np.array([(1, 2, 3), (4, 5, 6), (7, 8, 9)],\n",
              "...                 dtype=[(&quot;a&quot;, &quot;i4&quot;), (&quot;b&quot;, &quot;i4&quot;), (&quot;c&quot;, &quot;i4&quot;)])\n",
              "&gt;&gt;&gt; df3 = pd.DataFrame(data, columns=[&#x27;c&#x27;, &#x27;a&#x27;])\n",
              "...\n",
              "&gt;&gt;&gt; df3\n",
              "   c  a\n",
              "0  3  1\n",
              "1  6  4\n",
              "2  9  7\n",
              "\n",
              "Constructing DataFrame from dataclass:\n",
              "\n",
              "&gt;&gt;&gt; from dataclasses import make_dataclass\n",
              "&gt;&gt;&gt; Point = make_dataclass(&quot;Point&quot;, [(&quot;x&quot;, int), (&quot;y&quot;, int)])\n",
              "&gt;&gt;&gt; pd.DataFrame([Point(0, 0), Point(0, 3), Point(2, 3)])\n",
              "   x  y\n",
              "0  0  0\n",
              "1  0  3\n",
              "2  2  3\n",
              "\n",
              "Constructing DataFrame from Series/DataFrame:\n",
              "\n",
              "&gt;&gt;&gt; ser = pd.Series([1, 2, 3], index=[&quot;a&quot;, &quot;b&quot;, &quot;c&quot;])\n",
              "&gt;&gt;&gt; df = pd.DataFrame(data=ser, index=[&quot;a&quot;, &quot;c&quot;])\n",
              "&gt;&gt;&gt; df\n",
              "   0\n",
              "a  1\n",
              "c  3\n",
              "\n",
              "&gt;&gt;&gt; df1 = pd.DataFrame([1, 2, 3], index=[&quot;a&quot;, &quot;b&quot;, &quot;c&quot;], columns=[&quot;x&quot;])\n",
              "&gt;&gt;&gt; df2 = pd.DataFrame(data=df1, index=[&quot;a&quot;, &quot;c&quot;])\n",
              "&gt;&gt;&gt; df2\n",
              "   x\n",
              "a  1\n",
              "c  3</pre>\n",
              "      <script>\n",
              "      if (google.colab.kernel.accessAllowed && google.colab.files && google.colab.files.view) {\n",
              "        for (const element of document.querySelectorAll('.filepath')) {\n",
              "          element.style.display = 'block'\n",
              "          element.onclick = (event) => {\n",
              "            event.preventDefault();\n",
              "            event.stopPropagation();\n",
              "            google.colab.files.view(element.textContent, 509);\n",
              "          };\n",
              "        }\n",
              "      }\n",
              "      for (const element of document.querySelectorAll('.function-repr-contents')) {\n",
              "        element.onclick = (event) => {\n",
              "          event.preventDefault();\n",
              "          event.stopPropagation();\n",
              "          element.classList.toggle('function-repr-contents-collapsed');\n",
              "        };\n",
              "      }\n",
              "      </script>\n",
              "      </div>"
            ]
          },
          "metadata": {},
          "execution_count": 68
        }
      ]
    },
    {
      "cell_type": "markdown",
      "source": [
        "3. you need to convert</h1></section> from dataframe to Datascience Table. Use the following format: ```Table.from_df(df, keep_index=False)``` read more here\n",
        "[create DS Table from DF](https://www.data8.org/datascience/_autosummary/datascience.tables.Table.from_df.html)\n",
        "\n",
        "**N.B.** <font color='red'>NOW, perform all tasks using the table abstraction as we have learned in the class!</font>"
      ],
      "metadata": {
        "id": "ajH-jZyp8neJ"
      }
    },
    {
      "cell_type": "markdown",
      "source": [
        "the following is the opposite:\n",
        "\n",
        "[Table.to_df](https://www.data8.org/datascience/_autosummary/datascience.tables.Table.to_df.html)"
      ],
      "metadata": {
        "id": "ansU7tkQ9cj5"
      }
    },
    {
      "cell_type": "markdown",
      "source": [
        "what is the maximum pm10 value"
      ],
      "metadata": {
        "id": "2zHvKSpo7nX0"
      }
    },
    {
      "cell_type": "code",
      "source": [
        "pollution_data['pm10'].max()"
      ],
      "metadata": {
        "colab": {
          "base_uri": "https://localhost:8080/"
        },
        "id": "A-Ikgdphzdha",
        "outputId": "fb48e3ce-50d0-42cf-e065-5aec88116724"
      },
      "execution_count": 69,
      "outputs": [
        {
          "output_type": "execute_result",
          "data": {
            "text/plain": [
              "87341.71"
            ]
          },
          "metadata": {},
          "execution_count": 69
        }
      ]
    },
    {
      "cell_type": "markdown",
      "source": [
        "what is the maximum pm10 value"
      ],
      "metadata": {
        "id": "RgKB2UJo7rWW"
      }
    },
    {
      "cell_type": "code",
      "source": [
        "pollution_data['pm10'].min()"
      ],
      "metadata": {
        "colab": {
          "base_uri": "https://localhost:8080/"
        },
        "id": "qqANkwbXzmF5",
        "outputId": "52265ebe-24f3-4532-b49a-8377ca08c270"
      },
      "execution_count": 70,
      "outputs": [
        {
          "output_type": "execute_result",
          "data": {
            "text/plain": [
              "0.0"
            ]
          },
          "metadata": {},
          "execution_count": 70
        }
      ]
    },
    {
      "cell_type": "code",
      "source": [
        "joined_table = Table().from_df(pollution_data)"
      ],
      "metadata": {
        "id": "zsjLIScVmM9a"
      },
      "execution_count": 71,
      "outputs": []
    },
    {
      "cell_type": "markdown",
      "source": [
        "show the first few rows of the table?"
      ],
      "metadata": {
        "id": "KsUXysj_B1T9"
      }
    },
    {
      "cell_type": "code",
      "source": [
        "joined_table.show(2)"
      ],
      "metadata": {
        "colab": {
          "base_uri": "https://localhost:8080/",
          "height": 141
        },
        "id": "lhgoak8vzEfS",
        "outputId": "3a80370a-3ff8-4f4b-9118-16e03964100e"
      },
      "execution_count": 72,
      "outputs": [
        {
          "output_type": "display_data",
          "data": {
            "text/plain": [
              "<IPython.core.display.HTML object>"
            ],
            "text/html": [
              "<table border=\"1\" class=\"dataframe\">\n",
              "    <thead>\n",
              "        <tr>\n",
              "            <th>pm10</th> <th>neighborhood</th>\n",
              "        </tr>\n",
              "    </thead>\n",
              "    <tbody>\n",
              "        <tr>\n",
              "            <td>11.35</td> <td>Bronx Park  </td>\n",
              "        </tr>\n",
              "        <tr>\n",
              "            <td>1.18 </td> <td>Bronx Park  </td>\n",
              "        </tr>\n",
              "    </tbody>\n",
              "</table>\n",
              "<p>... (118493 rows omitted)</p>"
            ]
          },
          "metadata": {}
        }
      ]
    },
    {
      "cell_type": "markdown",
      "source": [
        "print minimum and maximum pm10 values?"
      ],
      "metadata": {
        "id": "zgAZOxbYB56N"
      }
    },
    {
      "cell_type": "code",
      "source": [
        "pm10 = joined_table.column('pm10')\n",
        "min(pm10), max(pm10)"
      ],
      "metadata": {
        "colab": {
          "base_uri": "https://localhost:8080/"
        },
        "id": "19ncrqo0y8l5",
        "outputId": "5ced3f96-2a72-4671-aa14-834aa22144a3"
      },
      "execution_count": 73,
      "outputs": [
        {
          "output_type": "execute_result",
          "data": {
            "text/plain": [
              "(0.0, 87341.710000000006)"
            ]
          },
          "metadata": {},
          "execution_count": 73
        }
      ]
    },
    {
      "cell_type": "markdown",
      "source": [
        "#Instructions for Students\n",
        "-You task is to analyze NYC hyperlocal air quality data using the provided dataset. Complete the following tasks in your Jupyter Notebook. Each task is worth 1 mark , for a total of 5 marks . Use the Table abstraction wherever possible."
      ],
      "metadata": {
        "id": "kkbu-cal0QRc"
      }
    },
    {
      "cell_type": "markdown",
      "source": [
        "# Tasks"
      ],
      "metadata": {
        "id": "lNeAe-ZH0eL2"
      }
    },
    {
      "cell_type": "markdown",
      "source": [
        "###Task 1: Explore the Joined Data Using Tables (1 Mark)\n",
        "- Display the first 5 rows of the joined_table using .show().\n",
        "- Print the number of rows and columns in the table.\n",
        "- Identify any missing values in the table and handle them appropriately (e.g., drop rows with missing values or fill them with a default value)."
      ],
      "metadata": {
        "id": "TdamjDqe7vYk"
      }
    },
    {
      "cell_type": "code",
      "source": [
        "joined_table.show(5)"
      ],
      "metadata": {
        "colab": {
          "base_uri": "https://localhost:8080/",
          "height": 235
        },
        "id": "AEZ-vWmBg2b2",
        "outputId": "7b57c91c-01f9-48b3-b64e-abef573ec90f"
      },
      "execution_count": 74,
      "outputs": [
        {
          "output_type": "display_data",
          "data": {
            "text/plain": [
              "<IPython.core.display.HTML object>"
            ],
            "text/html": [
              "<table border=\"1\" class=\"dataframe\">\n",
              "    <thead>\n",
              "        <tr>\n",
              "            <th>pm10</th> <th>neighborhood</th>\n",
              "        </tr>\n",
              "    </thead>\n",
              "    <tbody>\n",
              "        <tr>\n",
              "            <td>11.35</td> <td>Bronx Park  </td>\n",
              "        </tr>\n",
              "        <tr>\n",
              "            <td>1.18 </td> <td>Bronx Park  </td>\n",
              "        </tr>\n",
              "        <tr>\n",
              "            <td>0.76 </td> <td>Bronx Park  </td>\n",
              "        </tr>\n",
              "        <tr>\n",
              "            <td>47.36</td> <td>Bronx Park  </td>\n",
              "        </tr>\n",
              "        <tr>\n",
              "            <td>6.18 </td> <td>Bronx Park  </td>\n",
              "        </tr>\n",
              "    </tbody>\n",
              "</table>\n",
              "<p>... (118490 rows omitted)</p>"
            ]
          },
          "metadata": {}
        }
      ]
    },
    {
      "cell_type": "code",
      "source": [
        "num_rows = joined_table.num_rows\n",
        "num_columns = joined_table.num_columns\n",
        "print(\"Number of rows:\", num_rows)\n",
        "print(\"Number of columns:\", num_columns)\n"
      ],
      "metadata": {
        "colab": {
          "base_uri": "https://localhost:8080/"
        },
        "id": "ZgvLPpkRhAxs",
        "outputId": "c540ff85-64c9-4b96-c160-f6f9d4c20fbc"
      },
      "execution_count": 75,
      "outputs": [
        {
          "output_type": "stream",
          "name": "stdout",
          "text": [
            "Number of rows: 118495\n",
            "Number of columns: 2\n"
          ]
        }
      ]
    },
    {
      "cell_type": "code",
      "source": [
        "# Identify missing values\n",
        "missing_values = joined_table.to_df().isna().sum()\n",
        "print(\"Missing values in each column:\")\n",
        "print(missing_values)\n"
      ],
      "metadata": {
        "colab": {
          "base_uri": "https://localhost:8080/"
        },
        "id": "K9cYpULshIpg",
        "outputId": "88914daa-c0fb-45cb-982f-4ca68a39367a"
      },
      "execution_count": 76,
      "outputs": [
        {
          "output_type": "stream",
          "name": "stdout",
          "text": [
            "Missing values in each column:\n",
            "pm10            0\n",
            "neighborhood    0\n",
            "dtype: int64\n"
          ]
        }
      ]
    },
    {
      "cell_type": "code",
      "source": [
        "# Convert joined_table back to DataFrame for processing\n",
        "df = joined_table.to_df()\n",
        "\n",
        "# Drop rows with missing values\n",
        "cleaned_df = df.dropna()\n",
        "\n",
        "# Convert back to DataScience Table\n",
        "cleaned_table = Table().from_df(cleaned_df)\n"
      ],
      "metadata": {
        "id": "B9ldHBDVhc-B"
      },
      "execution_count": 78,
      "outputs": []
    },
    {
      "cell_type": "markdown",
      "source": [
        "# Task 2: Create Summary Statistics Using Table Operations (1 Mark)\n",
        "\n",
        "- Compute summary statistics (mean, median, min, max) for the attributes temperature, humidity, and pm25 using table operations like .column() and .apply().\n",
        "- Group the data by borough and calculate the average pm25 levels for each borough using .group() or .pivot().\n",
        "- Display the results in a new table."
      ],
      "metadata": {
        "id": "XTjfxfG209Ia"
      }
    },
    {
      "cell_type": "code",
      "source": [
        "# Check columns in pm10_data\n",
        "print(\"Columns in pm10_data:\", pm10_data.columns)\n",
        "\n",
        "# Check columns in nyc_neighborhoods\n",
        "print(\"Columns in nyc_neighborhoods:\", nyc_neighborhoods.columns)\n"
      ],
      "metadata": {
        "colab": {
          "base_uri": "https://localhost:8080/"
        },
        "id": "b0ZW1v1nkXfi",
        "outputId": "40ae826f-bd2e-43e6-9cc9-d7b6521d11f9"
      },
      "execution_count": 79,
      "outputs": [
        {
          "output_type": "stream",
          "name": "stdout",
          "text": [
            "Columns in pm10_data: Index(['SensorID', 'time', 'latitude', 'longitude', 'bin0', 'bin1', 'bin2',\n",
            "       'bin3', 'bin4', 'bin5', 'bin6', 'bin7', 'bin8', 'bin9', 'bin10',\n",
            "       'bin11', 'bin12', 'bin13', 'bin14', 'bin15', 'bin16', 'bin17', 'bin18',\n",
            "       'bin19', 'bin20', 'bin21', 'bin22', 'bin23', 'temperature', 'humidity',\n",
            "       'pm1', 'pm25', 'pm10'],\n",
            "      dtype='object')\n",
            "Columns in nyc_neighborhoods: Index(['neighborhood', 'boroughCode', 'borough', '@id', 'geometry'], dtype='object')\n"
          ]
        }
      ]
    },
    {
      "cell_type": "code",
      "source": [
        "# Convert pm10_data into a GeoDataFrame\n",
        "pm10_gdf = gpd.GeoDataFrame(pm10_data, geometry=gpd.points_from_xy(pm10_data.longitude, pm10_data.latitude))\n",
        "\n",
        "# Perform spatial join with nyc_neighborhoods\n",
        "merged_data = gpd.sjoin(pm10_gdf, nyc_neighborhoods, how='inner', predicate='within')\n",
        "\n",
        "# Retain specific columns for analysis\n",
        "pollution_data = merged_data[['temperature', 'humidity', 'pm25', 'pm10', 'neighborhood']]\n"
      ],
      "metadata": {
        "colab": {
          "base_uri": "https://localhost:8080/"
        },
        "id": "ljVuC9SUlDgt",
        "outputId": "245333b0-19d4-4fb5-b92e-e28bfe645948"
      },
      "execution_count": 80,
      "outputs": [
        {
          "output_type": "stream",
          "name": "stderr",
          "text": [
            "<ipython-input-80-084c0d2f1274>:5: UserWarning: CRS mismatch between the CRS of left geometries and the CRS of right geometries.\n",
            "Use `to_crs()` to reproject one of the input geometries to match the CRS of the other.\n",
            "\n",
            "Left CRS: None\n",
            "Right CRS: EPSG:4326\n",
            "\n",
            "  merged_data = gpd.sjoin(pm10_gdf, nyc_neighborhoods, how='inner', predicate='within')\n"
          ]
        }
      ]
    },
    {
      "cell_type": "code",
      "source": [
        "# Convert pollution_data to Datascience Table\n",
        "joined_table = Table().from_df(pollution_data)\n",
        "\n",
        "# Compute summary statistics for temperature, humidity, and pm25\n",
        "for col in ['temperature', 'humidity', 'pm25']:\n",
        "    values = joined_table.column(col)\n",
        "    mean_val = np.mean(values)\n",
        "    median_val = np.median(values)\n",
        "    min_val = min(values)\n",
        "    max_val = max(values)\n",
        "    print(f\"{col} - Mean: {mean_val}, Median: {median_val}, Min: {min_val}, Max: {max_val}\")\n"
      ],
      "metadata": {
        "colab": {
          "base_uri": "https://localhost:8080/"
        },
        "id": "6lcBHAQTltoU",
        "outputId": "239ea8b1-b658-474a-be7c-c4021cebdeec"
      },
      "execution_count": 81,
      "outputs": [
        {
          "output_type": "stream",
          "name": "stdout",
          "text": [
            "temperature - Mean: 8.241577281741844, Median: 7.2, Min: -7.9, Max: 10471.0\n",
            "humidity - Mean: 50.15486476222626, Median: 46.2, Min: 0.0, Max: 104.2\n",
            "pm25 - Mean: 7.374515886746276, Median: 3.02, Min: 0.0, Max: 3267.02\n"
          ]
        }
      ]
    },
    {
      "cell_type": "code",
      "source": [
        "# Group the data by neighborhood and calculate the average PM25 levels\n",
        "average_pm25_by_borough = joined_table.group('neighborhood', np.mean).select('neighborhood', 'pm25 mean')\n",
        "\n",
        "# Display the results\n",
        "average_pm25_by_borough.show()\n"
      ],
      "metadata": {
        "colab": {
          "base_uri": "https://localhost:8080/",
          "height": 1000
        },
        "id": "vXHtGGt7lwwf",
        "outputId": "8872c8e1-67ec-4586-fa22-44a2f234aa97"
      },
      "execution_count": 82,
      "outputs": [
        {
          "output_type": "display_data",
          "data": {
            "text/plain": [
              "<IPython.core.display.HTML object>"
            ],
            "text/html": [
              "<table border=\"1\" class=\"dataframe\">\n",
              "    <thead>\n",
              "        <tr>\n",
              "            <th>neighborhood</th> <th>pm25 mean</th>\n",
              "        </tr>\n",
              "    </thead>\n",
              "    <tbody>\n",
              "        <tr>\n",
              "            <td>Allerton          </td> <td>4.20833  </td>\n",
              "        </tr>\n",
              "        <tr>\n",
              "            <td>Astoria           </td> <td>1.29268  </td>\n",
              "        </tr>\n",
              "        <tr>\n",
              "            <td>Belmont           </td> <td>15.053   </td>\n",
              "        </tr>\n",
              "        <tr>\n",
              "            <td>Bronx Park        </td> <td>6.87867  </td>\n",
              "        </tr>\n",
              "        <tr>\n",
              "            <td>Bronxdale         </td> <td>3.53619  </td>\n",
              "        </tr>\n",
              "        <tr>\n",
              "            <td>Civic Center      </td> <td>4.09232  </td>\n",
              "        </tr>\n",
              "        <tr>\n",
              "            <td>Claremont Village </td> <td>5.6469   </td>\n",
              "        </tr>\n",
              "        <tr>\n",
              "            <td>Concourse         </td> <td>8.44021  </td>\n",
              "        </tr>\n",
              "        <tr>\n",
              "            <td>Concourse Village </td> <td>6.84481  </td>\n",
              "        </tr>\n",
              "        <tr>\n",
              "            <td>Country Club      </td> <td>12.8344  </td>\n",
              "        </tr>\n",
              "        <tr>\n",
              "            <td>Crotona Park      </td> <td>43.0689  </td>\n",
              "        </tr>\n",
              "        <tr>\n",
              "            <td>DUMBO             </td> <td>0.303077 </td>\n",
              "        </tr>\n",
              "        <tr>\n",
              "            <td>Ditmars Steinway  </td> <td>0.148421 </td>\n",
              "        </tr>\n",
              "        <tr>\n",
              "            <td>Downtown Brooklyn </td> <td>2.26549  </td>\n",
              "        </tr>\n",
              "        <tr>\n",
              "            <td>East Elmhurst     </td> <td>0.235588 </td>\n",
              "        </tr>\n",
              "        <tr>\n",
              "            <td>East Harlem       </td> <td>1.40176  </td>\n",
              "        </tr>\n",
              "        <tr>\n",
              "            <td>East Morrisania   </td> <td>6.52112  </td>\n",
              "        </tr>\n",
              "        <tr>\n",
              "            <td>East Village      </td> <td>0.274    </td>\n",
              "        </tr>\n",
              "        <tr>\n",
              "            <td>Financial District</td> <td>2.87807  </td>\n",
              "        </tr>\n",
              "        <tr>\n",
              "            <td>Fordham           </td> <td>3.63464  </td>\n",
              "        </tr>\n",
              "        <tr>\n",
              "            <td>Harlem            </td> <td>1.19305  </td>\n",
              "        </tr>\n",
              "        <tr>\n",
              "            <td>Highbridge        </td> <td>1.04912  </td>\n",
              "        </tr>\n",
              "        <tr>\n",
              "            <td>Hunts Point       </td> <td>7.36747  </td>\n",
              "        </tr>\n",
              "        <tr>\n",
              "            <td>Kingsbridge       </td> <td>2.4536   </td>\n",
              "        </tr>\n",
              "        <tr>\n",
              "            <td>Kips Bay          </td> <td>0.358222 </td>\n",
              "        </tr>\n",
              "        <tr>\n",
              "            <td>Long Island City  </td> <td>2.43627  </td>\n",
              "        </tr>\n",
              "        <tr>\n",
              "            <td>Longwood          </td> <td>8.39548  </td>\n",
              "        </tr>\n",
              "        <tr>\n",
              "            <td>Lower East Side   </td> <td>0.368469 </td>\n",
              "        </tr>\n",
              "        <tr>\n",
              "            <td>Midtown           </td> <td>0.492923 </td>\n",
              "        </tr>\n",
              "        <tr>\n",
              "            <td>Morris Heights    </td> <td>8.69595  </td>\n",
              "        </tr>\n",
              "        <tr>\n",
              "            <td>Morris Park       </td> <td>17.2426  </td>\n",
              "        </tr>\n",
              "        <tr>\n",
              "            <td>Morrisania        </td> <td>14.0809  </td>\n",
              "        </tr>\n",
              "        <tr>\n",
              "            <td>Mott Haven        </td> <td>3.012    </td>\n",
              "        </tr>\n",
              "        <tr>\n",
              "            <td>Mount Eden        </td> <td>7.92619  </td>\n",
              "        </tr>\n",
              "        <tr>\n",
              "            <td>Mount Hope        </td> <td>5.65111  </td>\n",
              "        </tr>\n",
              "        <tr>\n",
              "            <td>Murray Hill       </td> <td>0.175    </td>\n",
              "        </tr>\n",
              "        <tr>\n",
              "            <td>Norwood           </td> <td>2.26299  </td>\n",
              "        </tr>\n",
              "        <tr>\n",
              "            <td>Olinville         </td> <td>1.62743  </td>\n",
              "        </tr>\n",
              "        <tr>\n",
              "            <td>Parkchester       </td> <td>7.84008  </td>\n",
              "        </tr>\n",
              "        <tr>\n",
              "            <td>Pelham Bay        </td> <td>24.0296  </td>\n",
              "        </tr>\n",
              "        <tr>\n",
              "            <td>Pelham Bay Park   </td> <td>9.61388  </td>\n",
              "        </tr>\n",
              "        <tr>\n",
              "            <td>Pelham Gardens    </td> <td>11.7906  </td>\n",
              "        </tr>\n",
              "        <tr>\n",
              "            <td>Port Morris       </td> <td>4.93475  </td>\n",
              "        </tr>\n",
              "        <tr>\n",
              "            <td>Randall's Island  </td> <td>1.01127  </td>\n",
              "        </tr>\n",
              "        <tr>\n",
              "            <td>Schuylerville     </td> <td>14.8909  </td>\n",
              "        </tr>\n",
              "        <tr>\n",
              "            <td>Soundview         </td> <td>10.0304  </td>\n",
              "        </tr>\n",
              "        <tr>\n",
              "            <td>Stuyvesant Town   </td> <td>0.26434  </td>\n",
              "        </tr>\n",
              "        <tr>\n",
              "            <td>Sunnyside         </td> <td>0.4148   </td>\n",
              "        </tr>\n",
              "        <tr>\n",
              "            <td>Tremont           </td> <td>21.8756  </td>\n",
              "        </tr>\n",
              "        <tr>\n",
              "            <td>Tribeca           </td> <td>3.59048  </td>\n",
              "        </tr>\n",
              "        <tr>\n",
              "            <td>Two Bridges       </td> <td>3.51959  </td>\n",
              "        </tr>\n",
              "        <tr>\n",
              "            <td>Unionport         </td> <td>12.2991  </td>\n",
              "        </tr>\n",
              "        <tr>\n",
              "            <td>University Heights</td> <td>8.7631   </td>\n",
              "        </tr>\n",
              "        <tr>\n",
              "            <td>Upper East Side   </td> <td>0.714824 </td>\n",
              "        </tr>\n",
              "        <tr>\n",
              "            <td>Van Cortlandt Park</td> <td>1.47726  </td>\n",
              "        </tr>\n",
              "        <tr>\n",
              "            <td>Van Nest          </td> <td>12.219   </td>\n",
              "        </tr>\n",
              "        <tr>\n",
              "            <td>Wakefield         </td> <td>1.4247   </td>\n",
              "        </tr>\n",
              "        <tr>\n",
              "            <td>West Farms        </td> <td>11.7186  </td>\n",
              "        </tr>\n",
              "        <tr>\n",
              "            <td>Woodlawn          </td> <td>1.434    </td>\n",
              "        </tr>\n",
              "        <tr>\n",
              "            <td>Woodside          </td> <td>1.86578  </td>\n",
              "        </tr>\n",
              "    </tbody>\n",
              "</table>"
            ]
          },
          "metadata": {}
        }
      ]
    },
    {
      "cell_type": "markdown",
      "source": [
        "# Task 3: Visualize the Data Using Table-Based Plots (1 Mark)\n",
        "\n",
        "- Create a bar chart showing the average pm25 levels for each borough using .barh().\n",
        "- Create a scatter plot to visualize the relationship between temperature and pm25 using .scatter(). Add appropriate labels and a title to the plot.\n",
        "- Create a histogram of humidity values across all neighborhoods using .hist()."
      ],
      "metadata": {
        "id": "2SD9uVHI1oNW"
      }
    },
    {
      "cell_type": "code",
      "source": [
        "# Scatter plot: Relationship between temperature and PM25\n",
        "joined_table.scatter(\"temperature\", \"pm25\")\n",
        "\n",
        "# Set title and axis labels using matplotlib\n",
        "plt.title(\"Temperature vs. PM25\")\n",
        "plt.xlabel(\"Temperature\")\n",
        "plt.ylabel(\"PM25\")\n",
        "plt.show()\n",
        "\n"
      ],
      "metadata": {
        "colab": {
          "base_uri": "https://localhost:8080/",
          "height": 521
        },
        "id": "vNaXJ8vhl1_L",
        "outputId": "510f1c32-27e7-4685-fd97-6122cbaaf9c6"
      },
      "execution_count": 83,
      "outputs": [
        {
          "output_type": "display_data",
          "data": {
            "text/plain": [
              "<Figure size 500x500 with 1 Axes>"
            ],
            "image/png": "[encoded data removed]"
          },
          "metadata": {}
        }
      ]
    },
    {
      "cell_type": "code",
      "source": [
        "# Print basic statistics for the temperature column\n",
        "temperature_data = joined_table.column(\"temperature\")\n",
        "print(\"Temperature Stats:\")\n",
        "print(\"Min:\", min(temperature_data), \"Max:\", max(temperature_data), \"Mean:\", np.mean(temperature_data))\n",
        "\n",
        "# Check for outliers or unusual values\n",
        "print(\"First few temperatures:\", temperature_data[:10])\n"
      ],
      "metadata": {
        "colab": {
          "base_uri": "https://localhost:8080/"
        },
        "id": "BzfzbfkcoEuS",
        "outputId": "38889d34-01c5-48b1-bb92-16f386f9eb8e"
      },
      "execution_count": 84,
      "outputs": [
        {
          "output_type": "stream",
          "name": "stdout",
          "text": [
            "Temperature Stats:\n",
            "Min: -7.9 Max: 10471.0 Mean: 8.24157728174\n",
            "First few temperatures: [ 16.3  16.2  16.1  16.1  16.   15.9  15.8  15.8  15.7  15.6]\n"
          ]
        }
      ]
    },
    {
      "cell_type": "code",
      "source": [
        "# Remove outliers from pm25 and temperature columns\n",
        "scatterTable = joined_table.where(joined_table.column('pm25') < 2000)  # Adjust threshold for PM25 outliers\n",
        "scatterTable = scatterTable.where(scatterTable.column('temperature') < 1000)  # Adjust threshold for temperature outliers\n",
        "\n",
        "# Create a scatter plot to visualize the relationship between temperature and PM25\n",
        "scatterTable.scatter('temperature', 'pm25')\n",
        "\n",
        "# Add appropriate labels and a title to the plot\n",
        "plt.xlabel('Temperature (°C)')  # Ensure units are correct\n",
        "plt.ylabel('PM25 (µg/m³)')  # Add units for clarity\n",
        "plt.title('Temperature vs PM25')\n",
        "\n",
        "# Display the plot\n",
        "plt.show()\n"
      ],
      "metadata": {
        "colab": {
          "base_uri": "https://localhost:8080/",
          "height": 521
        },
        "id": "F0wEKOblr-nA",
        "outputId": "292e19fc-b692-47c8-c028-46c8cd11d403"
      },
      "execution_count": 85,
      "outputs": [
        {
          "output_type": "display_data",
          "data": {
            "text/plain": [
              "<Figure size 500x500 with 1 Axes>"
            ],
            "image/png": "[encoded data removed]"
          },
          "metadata": {}
        }
      ]
    },
    {
      "cell_type": "code",
      "source": [
        "# Histogram of humidity levels\n",
        "joined_table.hist(\"humidity\", bins=10)\n",
        "\n",
        "# Set the title using matplotlib\n",
        "plt.title(\"Histogram of Humidity Levels\")\n",
        "plt.xlabel(\"Humidity\")\n",
        "plt.ylabel(\"Frequency\")\n",
        "plt.show()\n"
      ],
      "metadata": {
        "colab": {
          "base_uri": "https://localhost:8080/",
          "height": 440
        },
        "id": "cpk0sRZKmD-H",
        "outputId": "781aa67f-fcd4-44f5-a518-ed334343bdb9"
      },
      "execution_count": 86,
      "outputs": [
        {
          "output_type": "display_data",
          "data": {
            "text/plain": [
              "<Figure size 600x400 with 1 Axes>"
            ],
            "image/png": "[encoded data removed]"
          },
          "metadata": {}
        }
      ]
    },
    {
      "cell_type": "markdown",
      "source": [
        "# Task 4: Define and Use Functions with Tables (1 Mark)\n",
        "\n",
        "- Write a function calculate_pm25_category(pm25) that categorizes PM2.5 levels as follows:\n",
        "\"Good\" if pm25 < 12\n",
        "\"Moderate\" if 12 <= pm25 < 35\n",
        "\"Unhealthy\" if pm25 >= 35\n",
        "- Apply this function to the pm25 column in the table using .apply() to create a new column called PM25_Category.\n",
        "- Count the number of sensors in each PM2.5 category and display the results using .group().\n"
      ],
      "metadata": {
        "id": "xTWFUDGX1v1F"
      }
    },
    {
      "cell_type": "code",
      "source": [
        "def calculate_pm25_category(pm25):\n",
        "    if pm25 < 12:\n",
        "        return \"Good\"\n",
        "    elif 12 <= pm25 < 35:\n",
        "        return \"Moderate\"\n",
        "    else:\n",
        "        return \"Unhealthy\"\n"
      ],
      "metadata": {
        "id": "XTUaznkTtc6q"
      },
      "execution_count": 87,
      "outputs": []
    },
    {
      "cell_type": "code",
      "source": [
        "joined_table = joined_table.with_columns(\n",
        "    \"PM25_Category\", joined_table.apply(calculate_pm25_category, \"pm25\")\n",
        ")\n"
      ],
      "metadata": {
        "id": "w4DDfmiBtqEK"
      },
      "execution_count": 88,
      "outputs": []
    },
    {
      "cell_type": "code",
      "source": [
        "pm25_counts = joined_table.group(\"PM25_Category\")\n",
        "pm25_counts.show()\n"
      ],
      "metadata": {
        "colab": {
          "base_uri": "https://localhost:8080/",
          "height": 143
        },
        "id": "BtcFwLL6tuLK",
        "outputId": "be8280e0-9bc4-4904-c221-8eec2093fd9d"
      },
      "execution_count": 89,
      "outputs": [
        {
          "output_type": "display_data",
          "data": {
            "text/plain": [
              "<IPython.core.display.HTML object>"
            ],
            "text/html": [
              "<table border=\"1\" class=\"dataframe\">\n",
              "    <thead>\n",
              "        <tr>\n",
              "            <th>PM25_Category</th> <th>count</th>\n",
              "        </tr>\n",
              "    </thead>\n",
              "    <tbody>\n",
              "        <tr>\n",
              "            <td>Good         </td> <td>101851</td>\n",
              "        </tr>\n",
              "        <tr>\n",
              "            <td>Moderate     </td> <td>12651 </td>\n",
              "        </tr>\n",
              "        <tr>\n",
              "            <td>Unhealthy    </td> <td>3993  </td>\n",
              "        </tr>\n",
              "    </tbody>\n",
              "</table>"
            ]
          },
          "metadata": {}
        }
      ]
    },
    {
      "cell_type": "markdown",
      "source": [
        "# Task 5: Simulate Random Sampling Using Tables (1 Mark)\n",
        "- Randomly sample 10% of the rows from the table without replacement using .sample().\n",
        "- Calculate the mean pm25 level for the sampled data.\n",
        "- Repeat the random sampling process 100 times and store the mean pm25 values from each iteration in a list.\n",
        "- Create a histogram of the 100 mean pm25 values to visualize the distribution of sample means."
      ],
      "metadata": {
        "id": "QPc8TD9i2CCu"
      }
    },
    {
      "cell_type": "code",
      "source": [
        "# Calculate the number of rows to sample (10% of total rows)\n",
        "num_rows_to_sample = int(0.1 * joined_table.num_rows)\n",
        "\n",
        "# Randomly sample 10% of the rows without replacement\n",
        "sampled_data = joined_table.sample(k=num_rows_to_sample, with_replacement=False)\n",
        "\n",
        "# Calculate the mean pm25 level for the sampled data\n",
        "mean_pm25_sample = np.mean(sampled_data.column(\"pm25\"))\n",
        "print(\"Mean PM25 for sampled data:\", mean_pm25_sample)\n"
      ],
      "metadata": {
        "colab": {
          "base_uri": "https://localhost:8080/"
        },
        "id": "s71ovAS4t59P",
        "outputId": "4db085da-ab83-499b-a520-de4e4420cc3a"
      },
      "execution_count": 91,
      "outputs": [
        {
          "output_type": "stream",
          "name": "stdout",
          "text": [
            "Mean PM25 for sampled data: 7.54961768926\n"
          ]
        }
      ]
    },
    {
      "cell_type": "code",
      "source": [
        "# Calculate the number of rows to sample (10% of total rows)\n",
        "num_rows_to_sample = int(0.1 * joined_table.num_rows)\n",
        "\n",
        "# Initialize a list to store mean PM25 values\n",
        "sample_means = []\n",
        "\n",
        "# Repeat sampling 100 times\n",
        "for i in range(100):\n",
        "    sampled_data = joined_table.sample(k=num_rows_to_sample, with_replacement=False)\n",
        "    mean_pm25 = np.mean(sampled_data.column(\"pm25\"))\n",
        "    sample_means.append(mean_pm25)\n",
        "\n",
        "# Create a table with the sample means\n",
        "sample_means_table = Table().with_columns(\"Sample Means\", sample_means)\n",
        "\n",
        "# Plot a histogram of the 100 mean PM25 values\n",
        "sample_means_table.hist(\"Sample Means\", bins=10)\n",
        "\n",
        "# Set title and labels using Matplotlib\n",
        "plt.title(\"Distribution of Sample Means\")\n",
        "plt.xlabel(\"Mean PM25\")\n",
        "plt.ylabel(\"Frequency\")\n",
        "plt.show()\n"
      ],
      "metadata": {
        "colab": {
          "base_uri": "https://localhost:8080/",
          "height": 440
        },
        "id": "Vhz1oan7uUqI",
        "outputId": "159bf5bc-3087-4818-fc82-ed1eefaebfb9"
      },
      "execution_count": 95,
      "outputs": [
        {
          "output_type": "display_data",
          "data": {
            "text/plain": [
              "<Figure size 600x400 with 1 Axes>"
            ],
            "image/png": "[encoded data removed]"
          },
          "metadata": {}
        }
      ]
    },
    {
      "cell_type": "markdown",
      "source": [
        "# Submission Guidelines\n",
        "- Add a \"Open in Colab\" button at the top of your notebook using the following Markdown code:\n",
        "[![Open In Colab](https://colab.research.google.com/assets/colab-badge.svg)](https://colab.research.google.com/github/your-repo-path/notebook.ipynb)\n",
        "\n",
        "- Upload your completed Jupyter Notebook to a GitHub repository.\n",
        "- Submit the link to your GitHub repository in the Blackboard LMS along with the Jupyter solution file.\n",
        "- <font color = red size = 6> ATTENTION!!! </font> Students are encouraged to work on groups, however the submission should be individual and each student should have her/his own unique final assignment solution, which is to be submitted in BB"
      ],
      "metadata": {
        "id": "kM16Gy602H1X"
      }
    },
    {
      "cell_type": "markdown",
      "source": [
        "# Grading Rubric\n",
        "- Each task is worth 1 mark , based on the following criteria:\n",
        "\n",
        "- Correctness : The solution produces the expected output using the Table abstraction .\n",
        "- Clarity : Code is well-organized, readable, and includes comments explaining key steps.\n",
        "- Creativity : Visualizations and analyses are presented in an engaging and insightful manner."
      ],
      "metadata": {
        "id": "dY2-OB4A2huX"
      }
    },
    {
      "cell_type": "markdown",
      "source": [
        "# Hints for Success\n",
        "- Use the Table abstraction methods like .select(), .where(), .group(), .apply(), and .sample() for data manipulation.\n",
        "- Refer to the slides and examples from book Chapters 6, 7, 8, and 9 for guidance on tables, functions, visualizations, and randomness.\n",
        "- Test your code frequently to ensure it runs without errors."
      ],
      "metadata": {
        "id": "0GlfWQnV2r9v"
      }
    }
  ]
}