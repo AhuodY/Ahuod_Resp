{
  "nbformat": 4,
  "nbformat_minor": 0,
  "metadata": {
    "colab": {
      "provenance": [],
      "include_colab_link": true
    },
    "kernelspec": {
      "name": "python3",
      "display_name": "Python 3"
    },
    "language_info": {
      "name": "python"
    }
  },
  "cells": [
    {
      "cell_type": "markdown",
      "metadata": {
        "id": "view-in-github",
        "colab_type": "text"
      },
      "source": [
        "<a href=\"https://colab.research.google.com/github/AhuodY/Ahuod_Resp/blob/main/Activity2_questions_Ahuod.ipynb\" target=\"_parent\"><img src=\"https://colab.research.google.com/assets/colab-badge.svg\" alt=\"Open In Colab\"/></a>"
      ]
    },
    {
      "cell_type": "markdown",
      "source": [
        "# Activity #2 (5 marks)"
      ],
      "metadata": {
        "id": "9Hr2lLFuZjja"
      }
    },
    {
      "cell_type": "markdown",
      "source": [
        "\n",
        "Class Activity: Analyzing NYC Hyperlocal Air Quality Data with Spatial Join"
      ],
      "metadata": {
        "id": "bEtXiTwI-yIv"
      }
    },
    {
      "cell_type": "markdown",
      "source": [
        "# Objective:\n",
        "- This activity reinforces concepts from Chapters 6 (Tables), 7 (Visualization), 8 (Functions and Tables), and 9 (Randomness). Students will analyze NYC hyperlocal air quality data using Python in a Jupyter Notebook (Google Colab). The focus will be on leveraging the Table abstraction wherever possible. Additionally, students will use spatial join techniques to combine air quality sensor readings with geographic data."
      ],
      "metadata": {
        "id": "6i3-zemYyZAu"
      }
    },
    {
      "cell_type": "markdown",
      "source": [
        "given a csv file containing longitude, latitude , and pm10  columns [Air Quality data](https://raw.githubusercontent.com/IsamAljawarneh/datasets/master/data/NYC_PM.csv) representing readings of low cost air quality sensor mounted on moving vehicles, in addition to a geojson file containing polygons representing administrative divisions of NYC city known as neighbourhoods [nyc_polygon.geojson](https://raw.githubusercontent.com/IsamAljawarneh/datasets/master/data/nyc_polygon.geojson).\n",
        "# Dataset Description\n",
        "- Air Quality Sensor Readings (NYC_PM.csv) :\n",
        "Attributes: SensorID, time, temperature, humidity, pm25,\n",
        "Focus attributes: temperature, humidity, pm1,pm25,pm10,\n",
        "- City Polygons (nyc_polygon.geojson) :\n",
        "Contains polygons representing neighborhoods or boroughs in NYC.\n",
        "Used for spatially joining geographic information with air quality data."
      ],
      "metadata": {
        "id": "MnPCkUN9-lzy"
      }
    },
    {
      "cell_type": "markdown",
      "source": [
        "## **part - A** preprocessing [0 marks]\n",
        "\n",
        "do all tasks and the subtasks!"
      ],
      "metadata": {
        "id": "_kuVRsJkAh9n"
      }
    },
    {
      "cell_type": "markdown",
      "source": [
        "# Onboarding Code Provided\n",
        "- The following code will be provided in an onboarding Jupyter Notebook to help students get started:\n",
        "\n"
      ],
      "metadata": {
        "id": "cXRH1R-SzPAs"
      }
    },
    {
      "cell_type": "code",
      "source": [
        "'''from google.colab import drive\n",
        "drive.mount('/content/drive')'''"
      ],
      "metadata": {
        "colab": {
          "base_uri": "https://localhost:8080/",
          "height": 35
        },
        "id": "R4ArO-FctZIu",
        "outputId": "aef47b51-e9dd-44e6-a86c-2a79902bb935"
      },
      "execution_count": 2,
      "outputs": [
        {
          "output_type": "execute_result",
          "data": {
            "text/plain": [
              "\"from google.colab import drive\\ndrive.mount('/content/drive')\""
            ],
            "application/vnd.google.colaboratory.intrinsic+json": {
              "type": "string"
            }
          },
          "metadata": {},
          "execution_count": 2
        }
      ]
    },
    {
      "cell_type": "markdown",
      "source": [
        "import necessary libraries"
      ],
      "metadata": {
        "id": "9o9eM8IICM-1"
      }
    },
    {
      "cell_type": "code",
      "source": [
        "import pandas as pd\n",
        "import geopandas as gpd\n",
        "import numpy as np\n",
        "import matplotlib.pyplot as plt"
      ],
      "metadata": {
        "id": "DIyY1q36ta3G"
      },
      "execution_count": 3,
      "outputs": []
    },
    {
      "cell_type": "code",
      "source": [
        "from datascience import *\n",
        "%matplotlib inline\n",
        "#path_data = '../../../assets/data/'\n",
        "import matplotlib.pyplot as plt\n",
        "plt.style.use('fivethirtyeight')\n",
        "import numpy as np"
      ],
      "metadata": {
        "id": "8ipkPRynmWGz"
      },
      "execution_count": 4,
      "outputs": []
    },
    {
      "cell_type": "markdown",
      "source": [
        "###1. Read the CSV file containing PM sensor readings\n",
        " & Read the GeoJSON file containing neighborhood boundaries into a GeoDataFrame"
      ],
      "metadata": {
        "id": "11VvbD-a6ur8"
      }
    },
    {
      "cell_type": "code",
      "source": [
        "\n",
        "# Step 1: Read the CSV file containing PM10 sensor readings\n",
        "pm10_data = pd.read_csv('https://raw.githubusercontent.com/IsamAljawarneh/datasets/master/data/NYC_PM.csv',index_col=False)\n",
        "\n",
        "# Step 2: Read the GeoJSON file containing neighborhood boundaries into a GeoDataFrame\n",
        "nyc_neighborhoods = gpd.read_file('https://raw.githubusercontent.com/IsamAljawarneh/datasets/master/data/nyc_polygon.geojson')\n"
      ],
      "metadata": {
        "id": "CYk7KfJqueQW"
      },
      "execution_count": 5,
      "outputs": []
    },
    {
      "cell_type": "code",
      "source": [
        "#pm10_data.dtypes"
      ],
      "metadata": {
        "id": "VAMLIDAKu289"
      },
      "execution_count": 6,
      "outputs": []
    },
    {
      "cell_type": "markdown",
      "source": [
        "### 2. convert the csv into a geodataframe and join it (sjoin) with the geojson, assign a coordinate reference system (CRS) the csv geodataframe which is identical to that of the geojson file, then perform the join, the result is a geodataframe, convert it to dataframe, and select pm10, neighborhood columns in a new dataframe"
      ],
      "metadata": {
        "id": "tKKuGLIl682s"
      }
    },
    {
      "cell_type": "code",
      "source": [
        "pm10_gdf = gpd.GeoDataFrame(pm10_data, geometry=gpd.points_from_xy(pm10_data.longitude, pm10_data.latitude))\n",
        "merged_data = gpd.sjoin(pm10_gdf, nyc_neighborhoods, how='inner', predicate='within')"
      ],
      "metadata": {
        "id": "LDdZ3JM9vABk",
        "colab": {
          "base_uri": "https://localhost:8080/"
        },
        "outputId": "84c5aed2-347c-4385-a7a8-3aa54f476cf6"
      },
      "execution_count": 7,
      "outputs": [
        {
          "output_type": "stream",
          "name": "stderr",
          "text": [
            "<ipython-input-7-d43866676e2a>:2: UserWarning: CRS mismatch between the CRS of left geometries and the CRS of right geometries.\n",
            "Use `to_crs()` to reproject one of the input geometries to match the CRS of the other.\n",
            "\n",
            "Left CRS: None\n",
            "Right CRS: EPSG:4326\n",
            "\n",
            "  merged_data = gpd.sjoin(pm10_gdf, nyc_neighborhoods, how='inner', predicate='within')\n"
          ]
        }
      ]
    },
    {
      "cell_type": "code",
      "source": [
        "#merged_data.dtypes"
      ],
      "metadata": {
        "id": "4YTL56jpvPDW"
      },
      "execution_count": 54,
      "outputs": []
    },
    {
      "cell_type": "code",
      "source": [
        "pollution_data = merged_data[['pm10','neighborhood']]"
      ],
      "metadata": {
        "id": "1XPU0kp4hwnf"
      },
      "execution_count": 8,
      "outputs": []
    },
    {
      "cell_type": "code",
      "source": [
        "pollution_data.shape[0]"
      ],
      "metadata": {
        "colab": {
          "base_uri": "https://localhost:8080/"
        },
        "id": "T3gx_my1iAoi",
        "outputId": "6dfa403e-0062-4a76-f4ea-f3f7910ea162"
      },
      "execution_count": 9,
      "outputs": [
        {
          "output_type": "execute_result",
          "data": {
            "text/plain": [
              "118495"
            ]
          },
          "metadata": {},
          "execution_count": 9
        }
      ]
    },
    {
      "cell_type": "code",
      "source": [
        "#merged_data.rename(columns={'neighborhood': 'neighborhood1'}, inplace=True)"
      ],
      "metadata": {
        "id": "P4M9bOYqy09e"
      },
      "execution_count": 55,
      "outputs": []
    },
    {
      "cell_type": "code",
      "source": [
        "type(pollution_data)"
      ],
      "metadata": {
        "colab": {
          "base_uri": "https://localhost:8080/",
          "height": 203
        },
        "id": "a8C-waCXk8JE",
        "outputId": "dd6bf0c1-3a84-4062-b86a-ee35a3cad6b8"
      },
      "execution_count": 10,
      "outputs": [
        {
          "output_type": "execute_result",
          "data": {
            "text/plain": [
              "pandas.core.frame.DataFrame"
            ],
            "text/html": [
              "<div style=\"max-width:800px; border: 1px solid var(--colab-border-color);\"><style>\n",
              "      pre.function-repr-contents {\n",
              "        overflow-x: auto;\n",
              "        padding: 8px 12px;\n",
              "        max-height: 500px;\n",
              "      }\n",
              "\n",
              "      pre.function-repr-contents.function-repr-contents-collapsed {\n",
              "        cursor: pointer;\n",
              "        max-height: 100px;\n",
              "      }\n",
              "    </style>\n",
              "    <pre style=\"white-space: initial; background:\n",
              "         var(--colab-secondary-surface-color); padding: 8px 12px;\n",
              "         border-bottom: 1px solid var(--colab-border-color);\"><b>pandas.core.frame.DataFrame</b><br/>def __init__(data=None, index: Axes | None=None, columns: Axes | None=None, dtype: Dtype | None=None, copy: bool | None=None) -&gt; None</pre><pre class=\"function-repr-contents function-repr-contents-collapsed\" style=\"\"><a class=\"filepath\" style=\"display:none\" href=\"#\">/usr/local/lib/python3.11/dist-packages/pandas/core/frame.py</a>Two-dimensional, size-mutable, potentially heterogeneous tabular data.\n",
              "\n",
              "Data structure also contains labeled axes (rows and columns).\n",
              "Arithmetic operations align on both row and column labels. Can be\n",
              "thought of as a dict-like container for Series objects. The primary\n",
              "pandas data structure.\n",
              "\n",
              "Parameters\n",
              "----------\n",
              "data : ndarray (structured or homogeneous), Iterable, dict, or DataFrame\n",
              "    Dict can contain Series, arrays, constants, dataclass or list-like objects. If\n",
              "    data is a dict, column order follows insertion-order. If a dict contains Series\n",
              "    which have an index defined, it is aligned by its index. This alignment also\n",
              "    occurs if data is a Series or a DataFrame itself. Alignment is done on\n",
              "    Series/DataFrame inputs.\n",
              "\n",
              "    If data is a list of dicts, column order follows insertion-order.\n",
              "\n",
              "index : Index or array-like\n",
              "    Index to use for resulting frame. Will default to RangeIndex if\n",
              "    no indexing information part of input data and no index provided.\n",
              "columns : Index or array-like\n",
              "    Column labels to use for resulting frame when data does not have them,\n",
              "    defaulting to RangeIndex(0, 1, 2, ..., n). If data contains column labels,\n",
              "    will perform column selection instead.\n",
              "dtype : dtype, default None\n",
              "    Data type to force. Only a single dtype is allowed. If None, infer.\n",
              "copy : bool or None, default None\n",
              "    Copy data from inputs.\n",
              "    For dict data, the default of None behaves like ``copy=True``.  For DataFrame\n",
              "    or 2d ndarray input, the default of None behaves like ``copy=False``.\n",
              "    If data is a dict containing one or more Series (possibly of different dtypes),\n",
              "    ``copy=False`` will ensure that these inputs are not copied.\n",
              "\n",
              "    .. versionchanged:: 1.3.0\n",
              "\n",
              "See Also\n",
              "--------\n",
              "DataFrame.from_records : Constructor from tuples, also record arrays.\n",
              "DataFrame.from_dict : From dicts of Series, arrays, or dicts.\n",
              "read_csv : Read a comma-separated values (csv) file into DataFrame.\n",
              "read_table : Read general delimited file into DataFrame.\n",
              "read_clipboard : Read text from clipboard into DataFrame.\n",
              "\n",
              "Notes\n",
              "-----\n",
              "Please reference the :ref:`User Guide &lt;basics.dataframe&gt;` for more information.\n",
              "\n",
              "Examples\n",
              "--------\n",
              "Constructing DataFrame from a dictionary.\n",
              "\n",
              "&gt;&gt;&gt; d = {&#x27;col1&#x27;: [1, 2], &#x27;col2&#x27;: [3, 4]}\n",
              "&gt;&gt;&gt; df = pd.DataFrame(data=d)\n",
              "&gt;&gt;&gt; df\n",
              "   col1  col2\n",
              "0     1     3\n",
              "1     2     4\n",
              "\n",
              "Notice that the inferred dtype is int64.\n",
              "\n",
              "&gt;&gt;&gt; df.dtypes\n",
              "col1    int64\n",
              "col2    int64\n",
              "dtype: object\n",
              "\n",
              "To enforce a single dtype:\n",
              "\n",
              "&gt;&gt;&gt; df = pd.DataFrame(data=d, dtype=np.int8)\n",
              "&gt;&gt;&gt; df.dtypes\n",
              "col1    int8\n",
              "col2    int8\n",
              "dtype: object\n",
              "\n",
              "Constructing DataFrame from a dictionary including Series:\n",
              "\n",
              "&gt;&gt;&gt; d = {&#x27;col1&#x27;: [0, 1, 2, 3], &#x27;col2&#x27;: pd.Series([2, 3], index=[2, 3])}\n",
              "&gt;&gt;&gt; pd.DataFrame(data=d, index=[0, 1, 2, 3])\n",
              "   col1  col2\n",
              "0     0   NaN\n",
              "1     1   NaN\n",
              "2     2   2.0\n",
              "3     3   3.0\n",
              "\n",
              "Constructing DataFrame from numpy ndarray:\n",
              "\n",
              "&gt;&gt;&gt; df2 = pd.DataFrame(np.array([[1, 2, 3], [4, 5, 6], [7, 8, 9]]),\n",
              "...                    columns=[&#x27;a&#x27;, &#x27;b&#x27;, &#x27;c&#x27;])\n",
              "&gt;&gt;&gt; df2\n",
              "   a  b  c\n",
              "0  1  2  3\n",
              "1  4  5  6\n",
              "2  7  8  9\n",
              "\n",
              "Constructing DataFrame from a numpy ndarray that has labeled columns:\n",
              "\n",
              "&gt;&gt;&gt; data = np.array([(1, 2, 3), (4, 5, 6), (7, 8, 9)],\n",
              "...                 dtype=[(&quot;a&quot;, &quot;i4&quot;), (&quot;b&quot;, &quot;i4&quot;), (&quot;c&quot;, &quot;i4&quot;)])\n",
              "&gt;&gt;&gt; df3 = pd.DataFrame(data, columns=[&#x27;c&#x27;, &#x27;a&#x27;])\n",
              "...\n",
              "&gt;&gt;&gt; df3\n",
              "   c  a\n",
              "0  3  1\n",
              "1  6  4\n",
              "2  9  7\n",
              "\n",
              "Constructing DataFrame from dataclass:\n",
              "\n",
              "&gt;&gt;&gt; from dataclasses import make_dataclass\n",
              "&gt;&gt;&gt; Point = make_dataclass(&quot;Point&quot;, [(&quot;x&quot;, int), (&quot;y&quot;, int)])\n",
              "&gt;&gt;&gt; pd.DataFrame([Point(0, 0), Point(0, 3), Point(2, 3)])\n",
              "   x  y\n",
              "0  0  0\n",
              "1  0  3\n",
              "2  2  3\n",
              "\n",
              "Constructing DataFrame from Series/DataFrame:\n",
              "\n",
              "&gt;&gt;&gt; ser = pd.Series([1, 2, 3], index=[&quot;a&quot;, &quot;b&quot;, &quot;c&quot;])\n",
              "&gt;&gt;&gt; df = pd.DataFrame(data=ser, index=[&quot;a&quot;, &quot;c&quot;])\n",
              "&gt;&gt;&gt; df\n",
              "   0\n",
              "a  1\n",
              "c  3\n",
              "\n",
              "&gt;&gt;&gt; df1 = pd.DataFrame([1, 2, 3], index=[&quot;a&quot;, &quot;b&quot;, &quot;c&quot;], columns=[&quot;x&quot;])\n",
              "&gt;&gt;&gt; df2 = pd.DataFrame(data=df1, index=[&quot;a&quot;, &quot;c&quot;])\n",
              "&gt;&gt;&gt; df2\n",
              "   x\n",
              "a  1\n",
              "c  3</pre>\n",
              "      <script>\n",
              "      if (google.colab.kernel.accessAllowed && google.colab.files && google.colab.files.view) {\n",
              "        for (const element of document.querySelectorAll('.filepath')) {\n",
              "          element.style.display = 'block'\n",
              "          element.onclick = (event) => {\n",
              "            event.preventDefault();\n",
              "            event.stopPropagation();\n",
              "            google.colab.files.view(element.textContent, 509);\n",
              "          };\n",
              "        }\n",
              "      }\n",
              "      for (const element of document.querySelectorAll('.function-repr-contents')) {\n",
              "        element.onclick = (event) => {\n",
              "          event.preventDefault();\n",
              "          event.stopPropagation();\n",
              "          element.classList.toggle('function-repr-contents-collapsed');\n",
              "        };\n",
              "      }\n",
              "      </script>\n",
              "      </div>"
            ]
          },
          "metadata": {},
          "execution_count": 10
        }
      ]
    },
    {
      "cell_type": "markdown",
      "source": [
        "3. you need to convert</h1></section> from dataframe to Datascience Table. Use the following format: ```Table.from_df(df, keep_index=False)``` read more here\n",
        "[create DS Table from DF](https://www.data8.org/datascience/_autosummary/datascience.tables.Table.from_df.html)\n",
        "\n",
        "**N.B.** <font color='red'>NOW, perform all tasks using the table abstraction as we have learned in the class!</font>"
      ],
      "metadata": {
        "id": "ajH-jZyp8neJ"
      }
    },
    {
      "cell_type": "markdown",
      "source": [
        "the following is the opposite:\n",
        "\n",
        "[Table.to_df](https://www.data8.org/datascience/_autosummary/datascience.tables.Table.to_df.html)"
      ],
      "metadata": {
        "id": "ansU7tkQ9cj5"
      }
    },
    {
      "cell_type": "markdown",
      "source": [
        "what is the maximum pm10 value"
      ],
      "metadata": {
        "id": "2zHvKSpo7nX0"
      }
    },
    {
      "cell_type": "code",
      "source": [
        "pollution_data['pm10'].max()"
      ],
      "metadata": {
        "colab": {
          "base_uri": "https://localhost:8080/"
        },
        "id": "A-Ikgdphzdha",
        "outputId": "83cd6ec9-d55c-48e8-9add-a14ecae58531"
      },
      "execution_count": 11,
      "outputs": [
        {
          "output_type": "execute_result",
          "data": {
            "text/plain": [
              "87341.71"
            ]
          },
          "metadata": {},
          "execution_count": 11
        }
      ]
    },
    {
      "cell_type": "markdown",
      "source": [
        "what is the maximum pm10 value"
      ],
      "metadata": {
        "id": "RgKB2UJo7rWW"
      }
    },
    {
      "cell_type": "code",
      "source": [
        "pollution_data['pm10'].min()"
      ],
      "metadata": {
        "colab": {
          "base_uri": "https://localhost:8080/"
        },
        "id": "qqANkwbXzmF5",
        "outputId": "f275f9c5-2878-4090-c6e2-f3df005d18ee"
      },
      "execution_count": 12,
      "outputs": [
        {
          "output_type": "execute_result",
          "data": {
            "text/plain": [
              "0.0"
            ]
          },
          "metadata": {},
          "execution_count": 12
        }
      ]
    },
    {
      "cell_type": "code",
      "source": [
        "joined_table = Table().from_df(pollution_data)"
      ],
      "metadata": {
        "id": "zsjLIScVmM9a"
      },
      "execution_count": 13,
      "outputs": []
    },
    {
      "cell_type": "markdown",
      "source": [
        "show the first few rows of the table?"
      ],
      "metadata": {
        "id": "KsUXysj_B1T9"
      }
    },
    {
      "cell_type": "code",
      "source": [
        "joined_table.show(2)"
      ],
      "metadata": {
        "colab": {
          "base_uri": "https://localhost:8080/",
          "height": 141
        },
        "id": "lhgoak8vzEfS",
        "outputId": "5e8f846e-c306-4748-80de-582246483c5e"
      },
      "execution_count": 14,
      "outputs": [
        {
          "output_type": "display_data",
          "data": {
            "text/plain": [
              "<IPython.core.display.HTML object>"
            ],
            "text/html": [
              "<table border=\"1\" class=\"dataframe\">\n",
              "    <thead>\n",
              "        <tr>\n",
              "            <th>pm10</th> <th>neighborhood</th>\n",
              "        </tr>\n",
              "    </thead>\n",
              "    <tbody>\n",
              "        <tr>\n",
              "            <td>11.35</td> <td>Bronx Park  </td>\n",
              "        </tr>\n",
              "        <tr>\n",
              "            <td>1.18 </td> <td>Bronx Park  </td>\n",
              "        </tr>\n",
              "    </tbody>\n",
              "</table>\n",
              "<p>... (118493 rows omitted)</p>"
            ]
          },
          "metadata": {}
        }
      ]
    },
    {
      "cell_type": "markdown",
      "source": [
        "print minimum and maximum pm10 values?"
      ],
      "metadata": {
        "id": "zgAZOxbYB56N"
      }
    },
    {
      "cell_type": "code",
      "source": [
        "pm10 = joined_table.column('pm10')\n",
        "min(pm10), max(pm10)"
      ],
      "metadata": {
        "colab": {
          "base_uri": "https://localhost:8080/"
        },
        "id": "19ncrqo0y8l5",
        "outputId": "9db3c515-5961-401f-bdb3-47e778c6ce08"
      },
      "execution_count": 15,
      "outputs": [
        {
          "output_type": "execute_result",
          "data": {
            "text/plain": [
              "(0.0, 87341.710000000006)"
            ]
          },
          "metadata": {},
          "execution_count": 15
        }
      ]
    },
    {
      "cell_type": "markdown",
      "source": [
        "#Instructions for Students\n",
        "-You task is to analyze NYC hyperlocal air quality data using the provided dataset. Complete the following tasks in your Jupyter Notebook. Each task is worth 1 mark , for a total of 5 marks . Use the Table abstraction wherever possible."
      ],
      "metadata": {
        "id": "kkbu-cal0QRc"
      }
    },
    {
      "cell_type": "markdown",
      "source": [
        "# Tasks"
      ],
      "metadata": {
        "id": "lNeAe-ZH0eL2"
      }
    },
    {
      "cell_type": "markdown",
      "source": [
        "###Task 1: Explore the Joined Data Using Tables (1 Mark)\n",
        "- Display the first 5 rows of the joined_table using .show().\n",
        "- Print the number of rows and columns in the table.\n",
        "- Identify any missing values in the table and handle them appropriately (e.g., drop rows with missing values or fill them with a default value)."
      ],
      "metadata": {
        "id": "TdamjDqe7vYk"
      }
    },
    {
      "cell_type": "code",
      "source": [
        "joined_table.show(5)"
      ],
      "metadata": {
        "colab": {
          "base_uri": "https://localhost:8080/",
          "height": 235
        },
        "id": "AEZ-vWmBg2b2",
        "outputId": "7158db0e-0f19-4330-a95e-ab4d72e1bf61"
      },
      "execution_count": null,
      "outputs": [
        {
          "output_type": "display_data",
          "data": {
            "text/plain": [
              "<IPython.core.display.HTML object>"
            ],
            "text/html": [
              "<table border=\"1\" class=\"dataframe\">\n",
              "    <thead>\n",
              "        <tr>\n",
              "            <th>temperature</th> <th>humidity</th> <th>pm25</th> <th>pm10</th> <th>neighborhood</th> <th>PM25_Category</th>\n",
              "        </tr>\n",
              "    </thead>\n",
              "    <tbody>\n",
              "        <tr>\n",
              "            <td>16.3       </td> <td>15.2    </td> <td>5.91</td> <td>11.35</td> <td>Bronx Park  </td> <td>Good         </td>\n",
              "        </tr>\n",
              "        <tr>\n",
              "            <td>16.2       </td> <td>15.1    </td> <td>1.18</td> <td>1.18 </td> <td>Bronx Park  </td> <td>Good         </td>\n",
              "        </tr>\n",
              "        <tr>\n",
              "            <td>16.1       </td> <td>15.1    </td> <td>0.76</td> <td>0.76 </td> <td>Bronx Park  </td> <td>Good         </td>\n",
              "        </tr>\n",
              "        <tr>\n",
              "            <td>16.1       </td> <td>15.2    </td> <td>4.48</td> <td>47.36</td> <td>Bronx Park  </td> <td>Good         </td>\n",
              "        </tr>\n",
              "        <tr>\n",
              "            <td>16         </td> <td>15.2    </td> <td>5.77</td> <td>6.18 </td> <td>Bronx Park  </td> <td>Good         </td>\n",
              "        </tr>\n",
              "    </tbody>\n",
              "</table>\n",
              "<p>... (118490 rows omitted)</p>"
            ]
          },
          "metadata": {}
        }
      ]
    },
    {
      "cell_type": "code",
      "source": [
        "num_rows = joined_table.num_rows          #num_rows, num_columns are used to find the total number of rows, columns in a table\n",
        "num_columns = joined_table.num_columns\n",
        "print(\"Number of rows:\", num_rows)\n",
        "print(\"Number of columns:\", num_columns)\n"
      ],
      "metadata": {
        "colab": {
          "base_uri": "https://localhost:8080/"
        },
        "id": "ZgvLPpkRhAxs",
        "outputId": "6c22f749-f978-4816-cd03-339a25f269e7"
      },
      "execution_count": 31,
      "outputs": [
        {
          "output_type": "stream",
          "name": "stdout",
          "text": [
            "Number of rows: 118495\n",
            "Number of columns: 6\n"
          ]
        }
      ]
    },
    {
      "cell_type": "markdown",
      "source": [
        "Identify missing values:"
      ],
      "metadata": {
        "id": "P2HHmMiO51o3"
      }
    },
    {
      "cell_type": "code",
      "source": [
        "# find missing values\n",
        "missing_values = joined_table.to_df().isna().sum()    # .isna(): Checks for missing (None/NaN) values, .sum(): Counts them by column\n",
        "print(\"Missing values in each column:\")\n",
        "print(missing_values)\n"
      ],
      "metadata": {
        "colab": {
          "base_uri": "https://localhost:8080/"
        },
        "id": "K9cYpULshIpg",
        "outputId": "480affe0-edc6-4c50-c49c-c9dcea9d1209"
      },
      "execution_count": 49,
      "outputs": [
        {
          "output_type": "stream",
          "name": "stdout",
          "text": [
            "Missing values in each column:\n",
            "temperature      0\n",
            "humidity         0\n",
            "pm25             0\n",
            "pm10             0\n",
            "neighborhood     0\n",
            "borough          0\n",
            "PM25_Category    0\n",
            "dtype: int64\n"
          ]
        }
      ]
    },
    {
      "cell_type": "code",
      "source": [
        "# Convert joined_table back to DataFrame to handle the missing values and drop them if any\n",
        "df = joined_table.to_df()\n",
        "\n",
        "# Drop rows with missing values, .dropna(): removes any row with None/NaN values)\n",
        "cleaned_df = df.dropna()\n",
        "\n",
        "# Convert back to DataScience Table\n",
        "cleaned_table = Table().from_df(cleaned_df)\n"
      ],
      "metadata": {
        "id": "B9ldHBDVhc-B"
      },
      "execution_count": 33,
      "outputs": []
    },
    {
      "cell_type": "markdown",
      "source": [
        "# Task 2: Create Summary Statistics Using Table Operations (1 Mark)\n",
        "\n",
        "- Compute summary statistics (mean, median, min, max) for the attributes temperature, humidity, and pm25 using table operations like .column() and .apply().\n",
        "- Group the data by borough and calculate the average pm25 levels for each borough using .group() or .pivot().\n",
        "- Display the results in a new table."
      ],
      "metadata": {
        "id": "XTjfxfG209Ia"
      }
    },
    {
      "cell_type": "code",
      "source": [
        "attributes = ['temperature', 'humidity', 'pm25']\n",
        "means = []   # List to store mean/medians\n",
        "medians = []\n",
        "mins = []    # List to store min/max\n",
        "maxs = []\n",
        "\n",
        "# for loop through each attribute and find mean/median..etc.\n",
        "for col in attributes:\n",
        "    column_data = joined_table.column(col)     # Get data for the column\n",
        "    means.append(np.mean(column_data))         # Calculate and store mean/median\n",
        "    medians.append(np.median(column_data))\n",
        "    mins.append(min(column_data))             # Find and store min/max\n",
        "    maxs.append(max(column_data))\n",
        "\n",
        "# Create a table\n",
        "summary_stats = Table().with_columns(\n",
        "    \"Attribute\", attributes,\n",
        "    \"Mean\", means,\n",
        "    \"Median\", medians,\n",
        "    \"Min\", mins,\n",
        "    \"Max\", maxs\n",
        ")\n",
        "\n",
        "summary_stats.show()\n"
      ],
      "metadata": {
        "colab": {
          "base_uri": "https://localhost:8080/",
          "height": 143
        },
        "id": "ljVuC9SUlDgt",
        "outputId": "cd5b4ee4-be45-4f11-83c7-3d8e0188412a"
      },
      "execution_count": 50,
      "outputs": [
        {
          "output_type": "display_data",
          "data": {
            "text/plain": [
              "<IPython.core.display.HTML object>"
            ],
            "text/html": [
              "<table border=\"1\" class=\"dataframe\">\n",
              "    <thead>\n",
              "        <tr>\n",
              "            <th>Attribute</th> <th>Mean</th> <th>Median</th> <th>Min</th> <th>Max</th>\n",
              "        </tr>\n",
              "    </thead>\n",
              "    <tbody>\n",
              "        <tr>\n",
              "            <td>temperature</td> <td>8.24158</td> <td>7.2   </td> <td>-7.9</td> <td>10471  </td>\n",
              "        </tr>\n",
              "        <tr>\n",
              "            <td>humidity   </td> <td>50.1549</td> <td>46.2  </td> <td>0   </td> <td>104.2  </td>\n",
              "        </tr>\n",
              "        <tr>\n",
              "            <td>pm25       </td> <td>7.37452</td> <td>3.02  </td> <td>0   </td> <td>3267.02</td>\n",
              "        </tr>\n",
              "    </tbody>\n",
              "</table>"
            ]
          },
          "metadata": {}
        }
      ]
    },
    {
      "cell_type": "code",
      "source": [
        "# Group data by neighborhood then calculate the mean of each group\n",
        "average_pm25_by_borough = joined_table.group(\"neighborhood\", np.mean).select(\"neighborhood\", \"pm25 mean\")\n",
        "\n",
        "# show the table\n",
        "average_pm25_by_borough.show()\n"
      ],
      "metadata": {
        "colab": {
          "base_uri": "https://localhost:8080/",
          "height": 1000
        },
        "id": "6lcBHAQTltoU",
        "outputId": "0a4ebd9b-b68c-427d-a3db-ad77d2dc2951"
      },
      "execution_count": 51,
      "outputs": [
        {
          "output_type": "display_data",
          "data": {
            "text/plain": [
              "<IPython.core.display.HTML object>"
            ],
            "text/html": [
              "<table border=\"1\" class=\"dataframe\">\n",
              "    <thead>\n",
              "        <tr>\n",
              "            <th>neighborhood</th> <th>pm25 mean</th>\n",
              "        </tr>\n",
              "    </thead>\n",
              "    <tbody>\n",
              "        <tr>\n",
              "            <td>Allerton          </td> <td>4.20833  </td>\n",
              "        </tr>\n",
              "        <tr>\n",
              "            <td>Astoria           </td> <td>1.29268  </td>\n",
              "        </tr>\n",
              "        <tr>\n",
              "            <td>Belmont           </td> <td>15.053   </td>\n",
              "        </tr>\n",
              "        <tr>\n",
              "            <td>Bronx Park        </td> <td>6.87867  </td>\n",
              "        </tr>\n",
              "        <tr>\n",
              "            <td>Bronxdale         </td> <td>3.53619  </td>\n",
              "        </tr>\n",
              "        <tr>\n",
              "            <td>Civic Center      </td> <td>4.09232  </td>\n",
              "        </tr>\n",
              "        <tr>\n",
              "            <td>Claremont Village </td> <td>5.6469   </td>\n",
              "        </tr>\n",
              "        <tr>\n",
              "            <td>Concourse         </td> <td>8.44021  </td>\n",
              "        </tr>\n",
              "        <tr>\n",
              "            <td>Concourse Village </td> <td>6.84481  </td>\n",
              "        </tr>\n",
              "        <tr>\n",
              "            <td>Country Club      </td> <td>12.8344  </td>\n",
              "        </tr>\n",
              "        <tr>\n",
              "            <td>Crotona Park      </td> <td>43.0689  </td>\n",
              "        </tr>\n",
              "        <tr>\n",
              "            <td>DUMBO             </td> <td>0.303077 </td>\n",
              "        </tr>\n",
              "        <tr>\n",
              "            <td>Ditmars Steinway  </td> <td>0.148421 </td>\n",
              "        </tr>\n",
              "        <tr>\n",
              "            <td>Downtown Brooklyn </td> <td>2.26549  </td>\n",
              "        </tr>\n",
              "        <tr>\n",
              "            <td>East Elmhurst     </td> <td>0.235588 </td>\n",
              "        </tr>\n",
              "        <tr>\n",
              "            <td>East Harlem       </td> <td>1.40176  </td>\n",
              "        </tr>\n",
              "        <tr>\n",
              "            <td>East Morrisania   </td> <td>6.52112  </td>\n",
              "        </tr>\n",
              "        <tr>\n",
              "            <td>East Village      </td> <td>0.274    </td>\n",
              "        </tr>\n",
              "        <tr>\n",
              "            <td>Financial District</td> <td>2.87807  </td>\n",
              "        </tr>\n",
              "        <tr>\n",
              "            <td>Fordham           </td> <td>3.63464  </td>\n",
              "        </tr>\n",
              "        <tr>\n",
              "            <td>Harlem            </td> <td>1.19305  </td>\n",
              "        </tr>\n",
              "        <tr>\n",
              "            <td>Highbridge        </td> <td>1.04912  </td>\n",
              "        </tr>\n",
              "        <tr>\n",
              "            <td>Hunts Point       </td> <td>7.36747  </td>\n",
              "        </tr>\n",
              "        <tr>\n",
              "            <td>Kingsbridge       </td> <td>2.4536   </td>\n",
              "        </tr>\n",
              "        <tr>\n",
              "            <td>Kips Bay          </td> <td>0.358222 </td>\n",
              "        </tr>\n",
              "        <tr>\n",
              "            <td>Long Island City  </td> <td>2.43627  </td>\n",
              "        </tr>\n",
              "        <tr>\n",
              "            <td>Longwood          </td> <td>8.39548  </td>\n",
              "        </tr>\n",
              "        <tr>\n",
              "            <td>Lower East Side   </td> <td>0.368469 </td>\n",
              "        </tr>\n",
              "        <tr>\n",
              "            <td>Midtown           </td> <td>0.492923 </td>\n",
              "        </tr>\n",
              "        <tr>\n",
              "            <td>Morris Heights    </td> <td>8.69595  </td>\n",
              "        </tr>\n",
              "        <tr>\n",
              "            <td>Morris Park       </td> <td>17.2426  </td>\n",
              "        </tr>\n",
              "        <tr>\n",
              "            <td>Morrisania        </td> <td>14.0809  </td>\n",
              "        </tr>\n",
              "        <tr>\n",
              "            <td>Mott Haven        </td> <td>3.012    </td>\n",
              "        </tr>\n",
              "        <tr>\n",
              "            <td>Mount Eden        </td> <td>7.92619  </td>\n",
              "        </tr>\n",
              "        <tr>\n",
              "            <td>Mount Hope        </td> <td>5.65111  </td>\n",
              "        </tr>\n",
              "        <tr>\n",
              "            <td>Murray Hill       </td> <td>0.175    </td>\n",
              "        </tr>\n",
              "        <tr>\n",
              "            <td>Norwood           </td> <td>2.26299  </td>\n",
              "        </tr>\n",
              "        <tr>\n",
              "            <td>Olinville         </td> <td>1.62743  </td>\n",
              "        </tr>\n",
              "        <tr>\n",
              "            <td>Parkchester       </td> <td>7.84008  </td>\n",
              "        </tr>\n",
              "        <tr>\n",
              "            <td>Pelham Bay        </td> <td>24.0296  </td>\n",
              "        </tr>\n",
              "        <tr>\n",
              "            <td>Pelham Bay Park   </td> <td>9.61388  </td>\n",
              "        </tr>\n",
              "        <tr>\n",
              "            <td>Pelham Gardens    </td> <td>11.7906  </td>\n",
              "        </tr>\n",
              "        <tr>\n",
              "            <td>Port Morris       </td> <td>4.93475  </td>\n",
              "        </tr>\n",
              "        <tr>\n",
              "            <td>Randall's Island  </td> <td>1.01127  </td>\n",
              "        </tr>\n",
              "        <tr>\n",
              "            <td>Schuylerville     </td> <td>14.8909  </td>\n",
              "        </tr>\n",
              "        <tr>\n",
              "            <td>Soundview         </td> <td>10.0304  </td>\n",
              "        </tr>\n",
              "        <tr>\n",
              "            <td>Stuyvesant Town   </td> <td>0.26434  </td>\n",
              "        </tr>\n",
              "        <tr>\n",
              "            <td>Sunnyside         </td> <td>0.4148   </td>\n",
              "        </tr>\n",
              "        <tr>\n",
              "            <td>Tremont           </td> <td>21.8756  </td>\n",
              "        </tr>\n",
              "        <tr>\n",
              "            <td>Tribeca           </td> <td>3.59048  </td>\n",
              "        </tr>\n",
              "        <tr>\n",
              "            <td>Two Bridges       </td> <td>3.51959  </td>\n",
              "        </tr>\n",
              "        <tr>\n",
              "            <td>Unionport         </td> <td>12.2991  </td>\n",
              "        </tr>\n",
              "        <tr>\n",
              "            <td>University Heights</td> <td>8.7631   </td>\n",
              "        </tr>\n",
              "        <tr>\n",
              "            <td>Upper East Side   </td> <td>0.714824 </td>\n",
              "        </tr>\n",
              "        <tr>\n",
              "            <td>Van Cortlandt Park</td> <td>1.47726  </td>\n",
              "        </tr>\n",
              "        <tr>\n",
              "            <td>Van Nest          </td> <td>12.219   </td>\n",
              "        </tr>\n",
              "        <tr>\n",
              "            <td>Wakefield         </td> <td>1.4247   </td>\n",
              "        </tr>\n",
              "        <tr>\n",
              "            <td>West Farms        </td> <td>11.7186  </td>\n",
              "        </tr>\n",
              "        <tr>\n",
              "            <td>Woodlawn          </td> <td>1.434    </td>\n",
              "        </tr>\n",
              "        <tr>\n",
              "            <td>Woodside          </td> <td>1.86578  </td>\n",
              "        </tr>\n",
              "    </tbody>\n",
              "</table>"
            ]
          },
          "metadata": {}
        }
      ]
    },
    {
      "cell_type": "markdown",
      "source": [
        "# Task 3: Visualize the Data Using Table-Based Plots (1 Mark)\n",
        "\n",
        "- Create a bar chart showing the average pm25 levels for each borough using .barh().\n",
        "- Create a scatter plot to visualize the relationship between temperature and pm25 using .scatter(). Add appropriate labels and a title to the plot.\n",
        "- Create a histogram of humidity values across all neighborhoods using .hist()."
      ],
      "metadata": {
        "id": "2SD9uVHI1oNW"
      }
    },
    {
      "cell_type": "code",
      "source": [
        "print(\"Columns in joined_table:\", joined_table.labels)  # Lists all available column names\n"
      ],
      "metadata": {
        "id": "zAyfDhHvUeh-",
        "colab": {
          "base_uri": "https://localhost:8080/"
        },
        "outputId": "baa32f53-74cb-404d-f5e5-a11c381bdc9e"
      },
      "execution_count": 52,
      "outputs": [
        {
          "output_type": "stream",
          "name": "stdout",
          "text": [
            "Columns in joined_table: ('temperature', 'humidity', 'pm25', 'pm10', 'neighborhood', 'borough', 'PM25_Category')\n"
          ]
        }
      ]
    },
    {
      "cell_type": "code",
      "source": [
        "# Ensure the merged dataset includes 'borough' information\n",
        "pollution_data = merged_data[['temperature', 'humidity', 'pm25', 'pm10', 'neighborhood', 'borough']]  # Ensure 'borough' exists\n",
        "joined_table = Table().from_df(pollution_data)  # Convert to a DataScience Table\n"
      ],
      "metadata": {
        "id": "Z3VKgBG8ZQvA"
      },
      "execution_count": 53,
      "outputs": []
    },
    {
      "cell_type": "code",
      "source": [
        "# Calculate average PM2.5 levels for each borough\n",
        "average_pm25_by_borough = joined_table.group('borough', np.mean).select('borough', 'pm25 mean')\n",
        "\n",
        "# Create a horizontal bar chart\n",
        "average_pm25_by_borough.sort('borough').barh(\"borough\", \"pm25 mean\")\n",
        "\n",
        "# Add labels and title\n",
        "plt.title(\"Average PM2.5 Levels by Borough\")\n",
        "plt.xlabel(\"Average PM2.5 Levels\")\n",
        "plt.ylabel(\"Borough\")\n",
        "plt.show()\n"
      ],
      "metadata": {
        "colab": {
          "base_uri": "https://localhost:8080/",
          "height": 440
        },
        "id": "Zbfc-q0nZZX9",
        "outputId": "8c8cbcef-cee9-4223-bff2-a1cf0d0d4402"
      },
      "execution_count": 39,
      "outputs": [
        {
          "output_type": "display_data",
          "data": {
            "text/plain": [
              "<Figure size 600x400 with 1 Axes>"
            ],
            "image/png": "[encoded data removed]"
          },
          "metadata": {}
        }
      ]
    },
    {
      "cell_type": "code",
      "source": [
        "# Scatter plot: Relationship between temperature and PM25\n",
        "joined_table.scatter(\"temperature\", \"pm25\")\n",
        "\n",
        "# Set title and axis labels using matplotlib\n",
        "plt.title(\"Temperature vs. PM25\")\n",
        "plt.xlabel(\"Temperature\")\n",
        "plt.ylabel(\"PM25\")\n",
        "plt.show()\n",
        "\n"
      ],
      "metadata": {
        "colab": {
          "base_uri": "https://localhost:8080/",
          "height": 521
        },
        "id": "vNaXJ8vhl1_L",
        "outputId": "46412b5e-f5b8-4fbb-d9ec-d1a865d00953"
      },
      "execution_count": 40,
      "outputs": [
        {
          "output_type": "display_data",
          "data": {
            "text/plain": [
              "<Figure size 500x500 with 1 Axes>"
            ],
            "image/png": "[encoded data removed]"
          },
          "metadata": {}
        }
      ]
    },
    {
      "cell_type": "code",
      "source": [
        "# Print basic statistics for the temperature column\n",
        "temperature_data = joined_table.column(\"temperature\")\n",
        "print(\"Temperature Stats:\")\n",
        "print(\"Min:\", min(temperature_data), \"Max:\", max(temperature_data), \"Mean:\", np.mean(temperature_data))\n",
        "\n",
        "# Check for outliers or unusual values\n",
        "print(\"First few temperatures:\", temperature_data[:10])\n"
      ],
      "metadata": {
        "colab": {
          "base_uri": "https://localhost:8080/"
        },
        "id": "BzfzbfkcoEuS",
        "outputId": "a2388def-b5d4-4c69-b4d6-2747b0076e47"
      },
      "execution_count": 41,
      "outputs": [
        {
          "output_type": "stream",
          "name": "stdout",
          "text": [
            "Temperature Stats:\n",
            "Min: -7.9 Max: 10471.0 Mean: 8.24157728174\n",
            "First few temperatures: [ 16.3  16.2  16.1  16.1  16.   15.9  15.8  15.8  15.7  15.6]\n"
          ]
        }
      ]
    },
    {
      "cell_type": "markdown",
      "source": [
        "**The scatter plot doesn't show clear association therefore, redo after removing the shown outliers**"
      ],
      "metadata": {
        "id": "1BoyKo9Ucqs9"
      }
    },
    {
      "cell_type": "code",
      "source": [
        "# Remove outliers from pm25 and temperature columns\n",
        "scatterTable = joined_table.where(joined_table.column('pm25') < 2000)  # Adjust threshold for PM25 outliers\n",
        "scatterTable = scatterTable.where(scatterTable.column('temperature') < 1000)  # Adjust threshold for temperature outliers\n",
        "\n",
        "# Create a scatter plot to visualize the relationship between temperature and PM25\n",
        "scatterTable.scatter('temperature', 'pm25')\n",
        "\n",
        "# Add appropriate labels and a title to the plot\n",
        "plt.xlabel('Temperature (°C)')  # Ensure units are correct\n",
        "plt.ylabel('PM25 (µg/m³)')  # Add units for clarity\n",
        "plt.title('Temperature vs PM25')\n",
        "\n",
        "# Display the plot\n",
        "plt.show()\n"
      ],
      "metadata": {
        "colab": {
          "base_uri": "https://localhost:8080/",
          "height": 521
        },
        "id": "F0wEKOblr-nA",
        "outputId": "25d943cf-b7df-438c-e01a-f4a90dc2767f"
      },
      "execution_count": 42,
      "outputs": [
        {
          "output_type": "display_data",
          "data": {
            "text/plain": [
              "<Figure size 500x500 with 1 Axes>"
            ],
            "image/png": "[encoded data removed]"
          },
          "metadata": {}
        }
      ]
    },
    {
      "cell_type": "code",
      "source": [
        "# Histogram of humidity levels\n",
        "joined_table.hist(\"humidity\", bins=10)\n",
        "\n",
        "# Set the title using matplotlib\n",
        "plt.title(\"Histogram of Humidity Levels\")\n",
        "plt.xlabel(\"Humidity\")\n",
        "plt.ylabel(\"Frequency\")\n",
        "plt.show()\n"
      ],
      "metadata": {
        "colab": {
          "base_uri": "https://localhost:8080/",
          "height": 440
        },
        "id": "cpk0sRZKmD-H",
        "outputId": "a549c4f6-e8a4-4e65-d51f-9909c07b7796"
      },
      "execution_count": 43,
      "outputs": [
        {
          "output_type": "display_data",
          "data": {
            "text/plain": [
              "<Figure size 600x400 with 1 Axes>"
            ],
            "image/png": "[encoded data removed]"
          },
          "metadata": {}
        }
      ]
    },
    {
      "cell_type": "markdown",
      "source": [
        "# Task 4: Define and Use Functions with Tables (1 Mark)\n",
        "\n",
        "- Write a function calculate_pm25_category(pm25) that categorizes PM2.5 levels as follows:\n",
        "\"Good\" if pm25 < 12\n",
        "\"Moderate\" if 12 <= pm25 < 35\n",
        "\"Unhealthy\" if pm25 >= 35\n",
        "- Apply this function to the pm25 column in the table using .apply() to create a new column called PM25_Category.\n",
        "- Count the number of sensors in each PM2.5 category and display the results using .group().\n"
      ],
      "metadata": {
        "id": "xTWFUDGX1v1F"
      }
    },
    {
      "cell_type": "code",
      "source": [
        "def calculate_pm25_category(pm25):\n",
        "    if pm25 < 12:\n",
        "        return \"Good\"\n",
        "    elif 12 <= pm25 < 35:\n",
        "        return \"Moderate\"\n",
        "    else:\n",
        "        return \"Unhealthy\"\n"
      ],
      "metadata": {
        "id": "XTUaznkTtc6q"
      },
      "execution_count": 44,
      "outputs": []
    },
    {
      "cell_type": "code",
      "source": [
        "joined_table = joined_table.with_columns(\n",
        "    \"PM25_Category\", joined_table.apply(calculate_pm25_category, \"pm25\")\n",
        ")\n"
      ],
      "metadata": {
        "id": "w4DDfmiBtqEK"
      },
      "execution_count": 45,
      "outputs": []
    },
    {
      "cell_type": "code",
      "source": [
        "pm25_counts = joined_table.group(\"PM25_Category\")\n",
        "pm25_counts.show()\n"
      ],
      "metadata": {
        "colab": {
          "base_uri": "https://localhost:8080/",
          "height": 143
        },
        "id": "BtcFwLL6tuLK",
        "outputId": "05f20ee7-71a6-4097-fa35-07256efb5028"
      },
      "execution_count": 46,
      "outputs": [
        {
          "output_type": "display_data",
          "data": {
            "text/plain": [
              "<IPython.core.display.HTML object>"
            ],
            "text/html": [
              "<table border=\"1\" class=\"dataframe\">\n",
              "    <thead>\n",
              "        <tr>\n",
              "            <th>PM25_Category</th> <th>count</th>\n",
              "        </tr>\n",
              "    </thead>\n",
              "    <tbody>\n",
              "        <tr>\n",
              "            <td>Good         </td> <td>101851</td>\n",
              "        </tr>\n",
              "        <tr>\n",
              "            <td>Moderate     </td> <td>12651 </td>\n",
              "        </tr>\n",
              "        <tr>\n",
              "            <td>Unhealthy    </td> <td>3993  </td>\n",
              "        </tr>\n",
              "    </tbody>\n",
              "</table>"
            ]
          },
          "metadata": {}
        }
      ]
    },
    {
      "cell_type": "markdown",
      "source": [
        "# Task 5: Simulate Random Sampling Using Tables (1 Mark)\n",
        "- Randomly sample 10% of the rows from the table without replacement using .sample().\n",
        "- Calculate the mean pm25 level for the sampled data.\n",
        "- Repeat the random sampling process 100 times and store the mean pm25 values from each iteration in a list.\n",
        "- Create a histogram of the 100 mean pm25 values to visualize the distribution of sample means."
      ],
      "metadata": {
        "id": "QPc8TD9i2CCu"
      }
    },
    {
      "cell_type": "code",
      "source": [
        "# Calculate the number of rows to sample (10% of total rows)\n",
        "num_rows_to_sample = int(0.1 * joined_table.num_rows)\n",
        "\n",
        "# Randomly sample 10% of the rows without replacement\n",
        "sampled_data = joined_table.sample(k=num_rows_to_sample, with_replacement=False)\n",
        "\n",
        "# Calculate the mean pm25 level for the sampled data\n",
        "mean_pm25_sample = np.mean(sampled_data.column(\"pm25\"))\n",
        "print(\"Mean PM25 for sampled data:\", mean_pm25_sample)\n"
      ],
      "metadata": {
        "colab": {
          "base_uri": "https://localhost:8080/"
        },
        "id": "s71ovAS4t59P",
        "outputId": "e2b39406-ba34-4a6c-a743-8aa3eb06484c"
      },
      "execution_count": 47,
      "outputs": [
        {
          "output_type": "stream",
          "name": "stdout",
          "text": [
            "Mean PM25 for sampled data: 7.30147944974\n"
          ]
        }
      ]
    },
    {
      "cell_type": "code",
      "source": [
        "# Calculate the number of rows to sample (10% of total rows)\n",
        "num_rows_to_sample = int(0.1 * joined_table.num_rows)\n",
        "\n",
        "# Initialize a list to store mean PM25 values\n",
        "sample_means = []\n",
        "\n",
        "# Repeat sampling 100 times\n",
        "for i in range(100):\n",
        "    sampled_data = joined_table.sample(k=num_rows_to_sample, with_replacement=False)\n",
        "    mean_pm25 = np.mean(sampled_data.column(\"pm25\"))\n",
        "    sample_means.append(mean_pm25)\n",
        "\n",
        "# Create a table with the sample means\n",
        "sample_means_table = Table().with_columns(\"Sample Means\", sample_means)\n",
        "\n",
        "# Plot a histogram of the 100 mean PM25 values\n",
        "sample_means_table.hist(\"Sample Means\", bins=10)\n",
        "\n",
        "# Set title and labels using Matplotlib\n",
        "plt.title(\"Distribution of Sample Means\")\n",
        "plt.xlabel(\"Mean PM25\")\n",
        "plt.ylabel(\"Frequency\")\n",
        "plt.show()\n"
      ],
      "metadata": {
        "colab": {
          "base_uri": "https://localhost:8080/",
          "height": 440
        },
        "id": "Vhz1oan7uUqI",
        "outputId": "6a052767-ed05-48ce-b1a6-1a137638e4d3"
      },
      "execution_count": 48,
      "outputs": [
        {
          "output_type": "display_data",
          "data": {
            "text/plain": [
              "<Figure size 600x400 with 1 Axes>"
            ],
            "image/png": "[encoded data removed]"
          },
          "metadata": {}
        }
      ]
    },
    {
      "cell_type": "markdown",
      "source": [
        "# Submission Guidelines\n",
        "- Add a \"Open in Colab\" button at the top of your notebook using the following Markdown code:\n",
        "[![Open In Colab](https://colab.research.google.com/assets/colab-badge.svg)](https://colab.research.google.com/github/your-repo-path/notebook.ipynb)\n",
        "\n",
        "- Upload your completed Jupyter Notebook to a GitHub repository.\n",
        "- Submit the link to your GitHub repository in the Blackboard LMS along with the Jupyter solution file.\n",
        "- <font color = red size = 6> ATTENTION!!! </font> Students are encouraged to work on groups, however the submission should be individual and each student should have her/his own unique final assignment solution, which is to be submitted in BB"
      ],
      "metadata": {
        "id": "kM16Gy602H1X"
      }
    },
    {
      "cell_type": "markdown",
      "source": [
        "# Grading Rubric\n",
        "- Each task is worth 1 mark , based on the following criteria:\n",
        "\n",
        "- Correctness : The solution produces the expected output using the Table abstraction .\n",
        "- Clarity : Code is well-organized, readable, and includes comments explaining key steps.\n",
        "- Creativity : Visualizations and analyses are presented in an engaging and insightful manner."
      ],
      "metadata": {
        "id": "dY2-OB4A2huX"
      }
    },
    {
      "cell_type": "markdown",
      "source": [
        "# Hints for Success\n",
        "- Use the Table abstraction methods like .select(), .where(), .group(), .apply(), and .sample() for data manipulation.\n",
        "- Refer to the slides and examples from book Chapters 6, 7, 8, and 9 for guidance on tables, functions, visualizations, and randomness.\n",
        "- Test your code frequently to ensure it runs without errors."
      ],
      "metadata": {
        "id": "0GlfWQnV2r9v"
      }
    }
  ]
}